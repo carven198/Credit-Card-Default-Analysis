{
  "cells": [
    {
      "cell_type": "markdown",
      "source": [
        "#A) Introduction"
      ],
      "metadata": {
        "id": "wRvN4_XaTLrl"
      }
    },
    {
      "cell_type": "markdown",
      "source": [
        "## This exercise is to build a predictive model to predict the likelihood of an individual's next credit card payment will be defaulted or not by using the historical data and individual's attributes."
      ],
      "metadata": {
        "id": "YD-7aa1wRktV"
      }
    },
    {
      "cell_type": "markdown",
      "source": [
        "#### The dataset is downloaded from https://archive-beta.ics.uci.edu/ml/datasets/default+of+credit+card+clients#Descriptive. \n",
        "\n",
        "\n",
        "#### There are 27 variables and one target variable - \"default payment next month\" \n",
        "\n",
        "#### The attributes are credit limit, gender, eduation, marital status, age, history of past payment for 6 months, amount of bill payments for 6 months and amount paid for 6 months. \n",
        "\n",
        "\n",
        "#### Each row represents each individual.\n"
      ],
      "metadata": {
        "id": "qENNYKvlSClf"
      }
    },
    {
      "cell_type": "markdown",
      "source": [
        "#### Dataset description:\n",
        "\n",
        "X1: Amount of the given credit (NT dollar): it includes both the individual consumer credit and his/her family (supplementary) credit.\n",
        "\n",
        "X2: Gender (1 = male; 2 = female).\n",
        "\n",
        "X3: Education (1 = graduate school; 2 = university; 3 = high school; 4 = others)\n",
        "\n",
        "X4: Marital status (1 = married; 2 = single; 3 = others)\n",
        "\n",
        "X5: Age (year)\n",
        "\n",
        "X6 - X11: History of past payment. We tracked the past monthly payment records (from April to September, 2005) as follows: X6 = the repayment status in September, 2005; X7 = the repayment status in August, 2005; . . .;X11 = the repayment status in April, 2005. The measurement scale for the repayment status is: -1 = pay duly; 1 = payment delay for one month; 2 = payment delay for two months; . . .; 8 = payment delay for eight months; 9 = payment delay for nine months and above.\n",
        "\n",
        "X12-X17: Amount of bill statement (NT dollar). X12 = amount of bill statement in September, 2005; X13 = amount of bill statement in August, 2005; . . .; X17 = amount of bill statement in April, 2005. \n",
        "X18-X23: Amount of previous payment (NT dollar). X18 = amount paid in September, 2005; X19 = amount paid in August, 2005; . . .;X23 = amount paid in April, 2005."
      ],
      "metadata": {
        "id": "wOjTt6bMXGli"
      }
    },
    {
      "cell_type": "markdown",
      "source": [
        "# B) Load the data"
      ],
      "metadata": {
        "id": "x_9kBf97Th8Y"
      }
    },
    {
      "cell_type": "code",
      "execution_count": null,
      "metadata": {
        "colab": {
          "base_uri": "https://localhost:8080/"
        },
        "id": "FDBFHBdJcJba",
        "outputId": "7836fa7a-6656-43da-edc2-fc74eb88b5f3"
      },
      "outputs": [
        {
          "output_type": "stream",
          "name": "stdout",
          "text": [
            "nvcc: NVIDIA (R) Cuda compiler driver\n",
            "Copyright (c) 2005-2020 NVIDIA Corporation\n",
            "Built on Mon_Oct_12_20:09:46_PDT_2020\n",
            "Cuda compilation tools, release 11.1, V11.1.105\n",
            "Build cuda_11.1.TC455_06.29190527_0\n"
          ]
        }
      ],
      "source": [
        "# CUDA: Let's check that Nvidia CUDA drivers are already pre-installed and which version is it.\n",
        "!/usr/local/cuda/bin/nvcc --version\n",
        "# We need to install the correct cuDNN according to this output"
      ]
    },
    {
      "cell_type": "code",
      "execution_count": null,
      "metadata": {
        "colab": {
          "base_uri": "https://localhost:8080/"
        },
        "id": "z0XlNtyRcLSb",
        "outputId": "9bbcbe98-f4e2-46cc-f186-69dfbb49a783"
      },
      "outputs": [
        {
          "output_type": "stream",
          "name": "stdout",
          "text": [
            "NVIDIA-SMI has failed because it couldn't communicate with the NVIDIA driver. Make sure that the latest NVIDIA driver is installed and running.\n",
            "\n"
          ]
        }
      ],
      "source": [
        "!nvidia-smi"
      ]
    },
    {
      "cell_type": "code",
      "execution_count": null,
      "metadata": {
        "colab": {
          "base_uri": "https://localhost:8080/"
        },
        "id": "hV-fXC_5cNlu",
        "outputId": "32723393-8be4-418b-fd68-f3abeb2df75c"
      },
      "outputs": [
        {
          "output_type": "stream",
          "name": "stdout",
          "text": [
            "env: compute_capability=75v\n"
          ]
        }
      ],
      "source": [
        "# Change the number depending on what GPU is listed above, under NVIDIA-SMI > Name.\n",
        "# Tesla K80: 30\n",
        "# Tesla P100: 60\n",
        "# Tesla T4: 75v\n",
        "%env compute_capability=75v"
      ]
    },
    {
      "cell_type": "code",
      "execution_count": null,
      "metadata": {
        "colab": {
          "base_uri": "https://localhost:8080/"
        },
        "id": "8QuM2tOt6wZn",
        "outputId": "0f628932-7d62-4a20-e510-1f2477dbde08"
      },
      "outputs": [
        {
          "output_type": "stream",
          "name": "stdout",
          "text": [
            "/\n",
            "Drive already mounted at /content/drive; to attempt to forcibly remount, call drive.mount(\"/content/drive\", force_remount=True).\n"
          ]
        }
      ],
      "source": [
        "%cd ..\n",
        "from google.colab import drive\n",
        "#drive.flush_and_unmount()\n",
        "\n",
        "drive.mount('/content/drive')"
      ]
    },
    {
      "cell_type": "code",
      "execution_count": null,
      "metadata": {
        "id": "zlLZ4kpR5Bje"
      },
      "outputs": [],
      "source": [
        "import warnings\n",
        "import numpy as np\n",
        "import pandas as pd\n",
        "import seaborn as sns\n",
        "import os\n",
        "import statsmodels.api as sm\n",
        "import matplotlib.pyplot as plt\n",
        "\n",
        "from sklearn.preprocessing import MinMaxScaler\n",
        "from sklearn.model_selection import train_test_split \n",
        "\n",
        "from statsmodels.stats.multitest import multipletests\n",
        "from imblearn.over_sampling import SMOTE\n",
        "from collections import Counter\n",
        "from sklearn.feature_selection import RFE\n",
        "from sklearn.model_selection import KFold\n",
        "\n",
        "from sklearn.linear_model import LogisticRegression\n",
        "from sklearn.neighbors import KNeighborsClassifier\n",
        "import xgboost as xgb\n",
        "from sklearn.ensemble import RandomForestClassifier\n",
        "from xgboost import plot_importance\n",
        "from tensorflow import keras\n",
        "\n",
        "\n",
        "from sklearn.metrics import f1_score, accuracy_score, confusion_matrix, ConfusionMatrixDisplay, classification_report,plot_roc_curve\n",
        "from sklearn.model_selection import GridSearchCV\n",
        "\n",
        "warnings.filterwarnings('ignore')\n",
        "%matplotlib inline"
      ]
    },
    {
      "cell_type": "code",
      "execution_count": null,
      "metadata": {
        "colab": {
          "base_uri": "https://localhost:8080/"
        },
        "id": "HaVDhAsE6Qnh",
        "outputId": "d4ce9f9d-7a79-4e86-e1fc-f3fc8136fe3e"
      },
      "outputs": [
        {
          "output_type": "stream",
          "name": "stdout",
          "text": [
            "/content/drive/My Drive/Interview/Credit Sesame\n",
            "'Data Scientist Take Home.pdf'         'Take Home Assessment_New.ipynb'\n",
            "'default of credit card clients.xls'   'Take Home Assessment_NN.ipynb'\n",
            "'default of credit card clients.xlsx'  'Take_Home_Assessment_old .ipynb'\n",
            " gitCommands.ipynb\n"
          ]
        }
      ],
      "source": [
        "%cd '/content/drive/My Drive/Interview/Credit Sesame/'\n",
        "%ls"
      ]
    },
    {
      "cell_type": "code",
      "execution_count": null,
      "metadata": {
        "colab": {
          "base_uri": "https://localhost:8080/",
          "height": 267
        },
        "id": "OHaoK6_86lck",
        "outputId": "95a6f89f-2237-4c89-a577-7f7395bf50b5"
      },
      "outputs": [
        {
          "output_type": "execute_result",
          "data": {
            "text/plain": [
              "    LIMIT_BAL  SEX  EDUCATION  MARRIAGE  AGE  PAY_0  PAY_2  PAY_3  PAY_4  \\\n",
              "ID                                                                         \n",
              "1       20000    2          2         1   24      2      2     -1     -1   \n",
              "2      120000    2          2         2   26     -1      2      0      0   \n",
              "3       90000    2          2         2   34      0      0      0      0   \n",
              "4       50000    2          2         1   37      0      0      0      0   \n",
              "5       50000    1          2         1   57     -1      0     -1      0   \n",
              "\n",
              "    PAY_5  ...  BILL_AMT4  BILL_AMT5  BILL_AMT6  PAY_AMT1  PAY_AMT2  PAY_AMT3  \\\n",
              "ID         ...                                                                  \n",
              "1      -2  ...          0          0          0         0       689         0   \n",
              "2       0  ...       3272       3455       3261         0      1000      1000   \n",
              "3       0  ...      14331      14948      15549      1518      1500      1000   \n",
              "4       0  ...      28314      28959      29547      2000      2019      1200   \n",
              "5       0  ...      20940      19146      19131      2000     36681     10000   \n",
              "\n",
              "    PAY_AMT4  PAY_AMT5  PAY_AMT6  default payment next month  \n",
              "ID                                                            \n",
              "1          0         0         0                           1  \n",
              "2       1000         0      2000                           1  \n",
              "3       1000      1000      5000                           0  \n",
              "4       1100      1069      1000                           0  \n",
              "5       9000       689       679                           0  \n",
              "\n",
              "[5 rows x 24 columns]"
            ],
            "text/html": [
              "\n",
              "  <div id=\"df-06c2e8d3-29cd-4b2c-b539-d911f217f20f\">\n",
              "    <div class=\"colab-df-container\">\n",
              "      <div>\n",
              "<style scoped>\n",
              "    .dataframe tbody tr th:only-of-type {\n",
              "        vertical-align: middle;\n",
              "    }\n",
              "\n",
              "    .dataframe tbody tr th {\n",
              "        vertical-align: top;\n",
              "    }\n",
              "\n",
              "    .dataframe thead th {\n",
              "        text-align: right;\n",
              "    }\n",
              "</style>\n",
              "<table border=\"1\" class=\"dataframe\">\n",
              "  <thead>\n",
              "    <tr style=\"text-align: right;\">\n",
              "      <th></th>\n",
              "      <th>LIMIT_BAL</th>\n",
              "      <th>SEX</th>\n",
              "      <th>EDUCATION</th>\n",
              "      <th>MARRIAGE</th>\n",
              "      <th>AGE</th>\n",
              "      <th>PAY_0</th>\n",
              "      <th>PAY_2</th>\n",
              "      <th>PAY_3</th>\n",
              "      <th>PAY_4</th>\n",
              "      <th>PAY_5</th>\n",
              "      <th>...</th>\n",
              "      <th>BILL_AMT4</th>\n",
              "      <th>BILL_AMT5</th>\n",
              "      <th>BILL_AMT6</th>\n",
              "      <th>PAY_AMT1</th>\n",
              "      <th>PAY_AMT2</th>\n",
              "      <th>PAY_AMT3</th>\n",
              "      <th>PAY_AMT4</th>\n",
              "      <th>PAY_AMT5</th>\n",
              "      <th>PAY_AMT6</th>\n",
              "      <th>default payment next month</th>\n",
              "    </tr>\n",
              "    <tr>\n",
              "      <th>ID</th>\n",
              "      <th></th>\n",
              "      <th></th>\n",
              "      <th></th>\n",
              "      <th></th>\n",
              "      <th></th>\n",
              "      <th></th>\n",
              "      <th></th>\n",
              "      <th></th>\n",
              "      <th></th>\n",
              "      <th></th>\n",
              "      <th></th>\n",
              "      <th></th>\n",
              "      <th></th>\n",
              "      <th></th>\n",
              "      <th></th>\n",
              "      <th></th>\n",
              "      <th></th>\n",
              "      <th></th>\n",
              "      <th></th>\n",
              "      <th></th>\n",
              "      <th></th>\n",
              "    </tr>\n",
              "  </thead>\n",
              "  <tbody>\n",
              "    <tr>\n",
              "      <th>1</th>\n",
              "      <td>20000</td>\n",
              "      <td>2</td>\n",
              "      <td>2</td>\n",
              "      <td>1</td>\n",
              "      <td>24</td>\n",
              "      <td>2</td>\n",
              "      <td>2</td>\n",
              "      <td>-1</td>\n",
              "      <td>-1</td>\n",
              "      <td>-2</td>\n",
              "      <td>...</td>\n",
              "      <td>0</td>\n",
              "      <td>0</td>\n",
              "      <td>0</td>\n",
              "      <td>0</td>\n",
              "      <td>689</td>\n",
              "      <td>0</td>\n",
              "      <td>0</td>\n",
              "      <td>0</td>\n",
              "      <td>0</td>\n",
              "      <td>1</td>\n",
              "    </tr>\n",
              "    <tr>\n",
              "      <th>2</th>\n",
              "      <td>120000</td>\n",
              "      <td>2</td>\n",
              "      <td>2</td>\n",
              "      <td>2</td>\n",
              "      <td>26</td>\n",
              "      <td>-1</td>\n",
              "      <td>2</td>\n",
              "      <td>0</td>\n",
              "      <td>0</td>\n",
              "      <td>0</td>\n",
              "      <td>...</td>\n",
              "      <td>3272</td>\n",
              "      <td>3455</td>\n",
              "      <td>3261</td>\n",
              "      <td>0</td>\n",
              "      <td>1000</td>\n",
              "      <td>1000</td>\n",
              "      <td>1000</td>\n",
              "      <td>0</td>\n",
              "      <td>2000</td>\n",
              "      <td>1</td>\n",
              "    </tr>\n",
              "    <tr>\n",
              "      <th>3</th>\n",
              "      <td>90000</td>\n",
              "      <td>2</td>\n",
              "      <td>2</td>\n",
              "      <td>2</td>\n",
              "      <td>34</td>\n",
              "      <td>0</td>\n",
              "      <td>0</td>\n",
              "      <td>0</td>\n",
              "      <td>0</td>\n",
              "      <td>0</td>\n",
              "      <td>...</td>\n",
              "      <td>14331</td>\n",
              "      <td>14948</td>\n",
              "      <td>15549</td>\n",
              "      <td>1518</td>\n",
              "      <td>1500</td>\n",
              "      <td>1000</td>\n",
              "      <td>1000</td>\n",
              "      <td>1000</td>\n",
              "      <td>5000</td>\n",
              "      <td>0</td>\n",
              "    </tr>\n",
              "    <tr>\n",
              "      <th>4</th>\n",
              "      <td>50000</td>\n",
              "      <td>2</td>\n",
              "      <td>2</td>\n",
              "      <td>1</td>\n",
              "      <td>37</td>\n",
              "      <td>0</td>\n",
              "      <td>0</td>\n",
              "      <td>0</td>\n",
              "      <td>0</td>\n",
              "      <td>0</td>\n",
              "      <td>...</td>\n",
              "      <td>28314</td>\n",
              "      <td>28959</td>\n",
              "      <td>29547</td>\n",
              "      <td>2000</td>\n",
              "      <td>2019</td>\n",
              "      <td>1200</td>\n",
              "      <td>1100</td>\n",
              "      <td>1069</td>\n",
              "      <td>1000</td>\n",
              "      <td>0</td>\n",
              "    </tr>\n",
              "    <tr>\n",
              "      <th>5</th>\n",
              "      <td>50000</td>\n",
              "      <td>1</td>\n",
              "      <td>2</td>\n",
              "      <td>1</td>\n",
              "      <td>57</td>\n",
              "      <td>-1</td>\n",
              "      <td>0</td>\n",
              "      <td>-1</td>\n",
              "      <td>0</td>\n",
              "      <td>0</td>\n",
              "      <td>...</td>\n",
              "      <td>20940</td>\n",
              "      <td>19146</td>\n",
              "      <td>19131</td>\n",
              "      <td>2000</td>\n",
              "      <td>36681</td>\n",
              "      <td>10000</td>\n",
              "      <td>9000</td>\n",
              "      <td>689</td>\n",
              "      <td>679</td>\n",
              "      <td>0</td>\n",
              "    </tr>\n",
              "  </tbody>\n",
              "</table>\n",
              "<p>5 rows × 24 columns</p>\n",
              "</div>\n",
              "      <button class=\"colab-df-convert\" onclick=\"convertToInteractive('df-06c2e8d3-29cd-4b2c-b539-d911f217f20f')\"\n",
              "              title=\"Convert this dataframe to an interactive table.\"\n",
              "              style=\"display:none;\">\n",
              "        \n",
              "  <svg xmlns=\"http://www.w3.org/2000/svg\" height=\"24px\"viewBox=\"0 0 24 24\"\n",
              "       width=\"24px\">\n",
              "    <path d=\"M0 0h24v24H0V0z\" fill=\"none\"/>\n",
              "    <path d=\"M18.56 5.44l.94 2.06.94-2.06 2.06-.94-2.06-.94-.94-2.06-.94 2.06-2.06.94zm-11 1L8.5 8.5l.94-2.06 2.06-.94-2.06-.94L8.5 2.5l-.94 2.06-2.06.94zm10 10l.94 2.06.94-2.06 2.06-.94-2.06-.94-.94-2.06-.94 2.06-2.06.94z\"/><path d=\"M17.41 7.96l-1.37-1.37c-.4-.4-.92-.59-1.43-.59-.52 0-1.04.2-1.43.59L10.3 9.45l-7.72 7.72c-.78.78-.78 2.05 0 2.83L4 21.41c.39.39.9.59 1.41.59.51 0 1.02-.2 1.41-.59l7.78-7.78 2.81-2.81c.8-.78.8-2.07 0-2.86zM5.41 20L4 18.59l7.72-7.72 1.47 1.35L5.41 20z\"/>\n",
              "  </svg>\n",
              "      </button>\n",
              "      \n",
              "  <style>\n",
              "    .colab-df-container {\n",
              "      display:flex;\n",
              "      flex-wrap:wrap;\n",
              "      gap: 12px;\n",
              "    }\n",
              "\n",
              "    .colab-df-convert {\n",
              "      background-color: #E8F0FE;\n",
              "      border: none;\n",
              "      border-radius: 50%;\n",
              "      cursor: pointer;\n",
              "      display: none;\n",
              "      fill: #1967D2;\n",
              "      height: 32px;\n",
              "      padding: 0 0 0 0;\n",
              "      width: 32px;\n",
              "    }\n",
              "\n",
              "    .colab-df-convert:hover {\n",
              "      background-color: #E2EBFA;\n",
              "      box-shadow: 0px 1px 2px rgba(60, 64, 67, 0.3), 0px 1px 3px 1px rgba(60, 64, 67, 0.15);\n",
              "      fill: #174EA6;\n",
              "    }\n",
              "\n",
              "    [theme=dark] .colab-df-convert {\n",
              "      background-color: #3B4455;\n",
              "      fill: #D2E3FC;\n",
              "    }\n",
              "\n",
              "    [theme=dark] .colab-df-convert:hover {\n",
              "      background-color: #434B5C;\n",
              "      box-shadow: 0px 1px 3px 1px rgba(0, 0, 0, 0.15);\n",
              "      filter: drop-shadow(0px 1px 2px rgba(0, 0, 0, 0.3));\n",
              "      fill: #FFFFFF;\n",
              "    }\n",
              "  </style>\n",
              "\n",
              "      <script>\n",
              "        const buttonEl =\n",
              "          document.querySelector('#df-06c2e8d3-29cd-4b2c-b539-d911f217f20f button.colab-df-convert');\n",
              "        buttonEl.style.display =\n",
              "          google.colab.kernel.accessAllowed ? 'block' : 'none';\n",
              "\n",
              "        async function convertToInteractive(key) {\n",
              "          const element = document.querySelector('#df-06c2e8d3-29cd-4b2c-b539-d911f217f20f');\n",
              "          const dataTable =\n",
              "            await google.colab.kernel.invokeFunction('convertToInteractive',\n",
              "                                                     [key], {});\n",
              "          if (!dataTable) return;\n",
              "\n",
              "          const docLinkHtml = 'Like what you see? Visit the ' +\n",
              "            '<a target=\"_blank\" href=https://colab.research.google.com/notebooks/data_table.ipynb>data table notebook</a>'\n",
              "            + ' to learn more about interactive tables.';\n",
              "          element.innerHTML = '';\n",
              "          dataTable['output_type'] = 'display_data';\n",
              "          await google.colab.output.renderOutput(dataTable, element);\n",
              "          const docLink = document.createElement('div');\n",
              "          docLink.innerHTML = docLinkHtml;\n",
              "          element.appendChild(docLink);\n",
              "        }\n",
              "      </script>\n",
              "    </div>\n",
              "  </div>\n",
              "  "
            ]
          },
          "metadata": {},
          "execution_count": 7
        }
      ],
      "source": [
        "data=pd.read_excel('default of credit card clients.xlsx',header=1,index_col='ID')\n",
        "data.head()"
      ]
    },
    {
      "cell_type": "markdown",
      "source": [
        "### Dataset"
      ],
      "metadata": {
        "id": "G0JJvBoXV2WA"
      }
    },
    {
      "cell_type": "code",
      "execution_count": null,
      "metadata": {
        "colab": {
          "base_uri": "https://localhost:8080/"
        },
        "id": "-T7s7PryFY87",
        "outputId": "e6e7f142-c9d2-4a11-d6d5-259fc8ccb16d"
      },
      "outputs": [
        {
          "output_type": "stream",
          "name": "stdout",
          "text": [
            "Number of individual in the dataset: 30000\n",
            "Number of attributes in the dataset: 24\n"
          ]
        }
      ],
      "source": [
        "row, att=data.shape\n",
        "print(f\"Number of individual in the dataset: {row}\")\n",
        "print(f\"Number of attributes in the dataset: {att}\")"
      ]
    },
    {
      "cell_type": "code",
      "execution_count": null,
      "metadata": {
        "colab": {
          "base_uri": "https://localhost:8080/"
        },
        "id": "36iIxDhW6nX_",
        "outputId": "a0fb56c9-2e10-4f59-cac6-4b8393768891"
      },
      "outputs": [
        {
          "output_type": "stream",
          "name": "stdout",
          "text": [
            "These are the columns name: ['LIMIT_BAL' 'SEX' 'EDUCATION' 'MARRIAGE' 'AGE' 'PAY_0' 'PAY_2' 'PAY_3'\n",
            " 'PAY_4' 'PAY_5' 'PAY_6' 'BILL_AMT1' 'BILL_AMT2' 'BILL_AMT3' 'BILL_AMT4'\n",
            " 'BILL_AMT5' 'BILL_AMT6' 'PAY_AMT1' 'PAY_AMT2' 'PAY_AMT3' 'PAY_AMT4'\n",
            " 'PAY_AMT5' 'PAY_AMT6' 'default payment next month']\n"
          ]
        }
      ],
      "source": [
        "columns_name=data.columns\n",
        "\n",
        "print(f\"These are the columns name: {columns_name.values}\")"
      ]
    },
    {
      "cell_type": "markdown",
      "metadata": {
        "id": "kHJ23CGv_UVe"
      },
      "source": [
        "#C)Data Cleaning"
      ]
    },
    {
      "cell_type": "markdown",
      "metadata": {
        "id": "MS2gjxHL_Zec"
      },
      "source": [
        "#### 1) Check Typo in header"
      ]
    },
    {
      "cell_type": "code",
      "execution_count": null,
      "metadata": {
        "id": "WgnfKdbh-_FP"
      },
      "outputs": [],
      "source": [
        "data = data.rename(columns={'PAY_0': 'PAY_1'})"
      ]
    },
    {
      "cell_type": "markdown",
      "source": [
        "There is a typo in PAY_0 column and it should be PAY_1\n"
      ],
      "metadata": {
        "id": "Z_y_xsWScxw_"
      }
    },
    {
      "cell_type": "code",
      "execution_count": null,
      "metadata": {
        "colab": {
          "base_uri": "https://localhost:8080/"
        },
        "id": "yY3wv09L_o_G",
        "outputId": "5077d21d-3b06-4800-cab8-77e0d69b866b"
      },
      "outputs": [
        {
          "output_type": "execute_result",
          "data": {
            "text/plain": [
              "Index(['LIMIT_BAL', 'SEX', 'EDUCATION', 'MARRIAGE', 'AGE', 'PAY_1', 'PAY_2',\n",
              "       'PAY_3', 'PAY_4', 'PAY_5', 'PAY_6', 'BILL_AMT1', 'BILL_AMT2',\n",
              "       'BILL_AMT3', 'BILL_AMT4', 'BILL_AMT5', 'BILL_AMT6', 'PAY_AMT1',\n",
              "       'PAY_AMT2', 'PAY_AMT3', 'PAY_AMT4', 'PAY_AMT5', 'PAY_AMT6',\n",
              "       'default payment next month'],\n",
              "      dtype='object')"
            ]
          },
          "metadata": {},
          "execution_count": 11
        }
      ],
      "source": [
        "data.columns"
      ]
    },
    {
      "cell_type": "markdown",
      "metadata": {
        "id": "iF7UkqPs_1Wx"
      },
      "source": [
        "#### 2) Check missing data"
      ]
    },
    {
      "cell_type": "code",
      "execution_count": null,
      "metadata": {
        "colab": {
          "base_uri": "https://localhost:8080/"
        },
        "id": "3S7GJ1_i_rxN",
        "outputId": "b11f301a-a5ce-4980-a8b8-f1657059ec9b"
      },
      "outputs": [
        {
          "output_type": "execute_result",
          "data": {
            "text/plain": [
              "LIMIT_BAL                     0\n",
              "SEX                           0\n",
              "EDUCATION                     0\n",
              "MARRIAGE                      0\n",
              "AGE                           0\n",
              "PAY_1                         0\n",
              "PAY_2                         0\n",
              "PAY_3                         0\n",
              "PAY_4                         0\n",
              "PAY_5                         0\n",
              "PAY_6                         0\n",
              "BILL_AMT1                     0\n",
              "BILL_AMT2                     0\n",
              "BILL_AMT3                     0\n",
              "BILL_AMT4                     0\n",
              "BILL_AMT5                     0\n",
              "BILL_AMT6                     0\n",
              "PAY_AMT1                      0\n",
              "PAY_AMT2                      0\n",
              "PAY_AMT3                      0\n",
              "PAY_AMT4                      0\n",
              "PAY_AMT5                      0\n",
              "PAY_AMT6                      0\n",
              "default payment next month    0\n",
              "dtype: int64"
            ]
          },
          "metadata": {},
          "execution_count": 12
        }
      ],
      "source": [
        "data.isnull().sum()"
      ]
    },
    {
      "cell_type": "markdown",
      "source": [
        "There is no missing data. "
      ],
      "metadata": {
        "id": "om6giG3fY40n"
      }
    },
    {
      "cell_type": "markdown",
      "metadata": {
        "id": "ZbXIeMzJABFM"
      },
      "source": [
        "#### 3) Check data type"
      ]
    },
    {
      "cell_type": "code",
      "execution_count": null,
      "metadata": {
        "colab": {
          "base_uri": "https://localhost:8080/"
        },
        "id": "OHTuiuDw_4Ua",
        "outputId": "dcc4577e-2f6d-49b6-bc38-c22ab31815f6"
      },
      "outputs": [
        {
          "output_type": "execute_result",
          "data": {
            "text/plain": [
              "LIMIT_BAL                     int64\n",
              "SEX                           int64\n",
              "EDUCATION                     int64\n",
              "MARRIAGE                      int64\n",
              "AGE                           int64\n",
              "PAY_1                         int64\n",
              "PAY_2                         int64\n",
              "PAY_3                         int64\n",
              "PAY_4                         int64\n",
              "PAY_5                         int64\n",
              "PAY_6                         int64\n",
              "BILL_AMT1                     int64\n",
              "BILL_AMT2                     int64\n",
              "BILL_AMT3                     int64\n",
              "BILL_AMT4                     int64\n",
              "BILL_AMT5                     int64\n",
              "BILL_AMT6                     int64\n",
              "PAY_AMT1                      int64\n",
              "PAY_AMT2                      int64\n",
              "PAY_AMT3                      int64\n",
              "PAY_AMT4                      int64\n",
              "PAY_AMT5                      int64\n",
              "PAY_AMT6                      int64\n",
              "default payment next month    int64\n",
              "dtype: object"
            ]
          },
          "metadata": {},
          "execution_count": 13
        }
      ],
      "source": [
        "data.dtypes"
      ]
    },
    {
      "cell_type": "markdown",
      "source": [
        "### 3) Change the header for PAY, Bill_AMT and PAY_AMT"
      ],
      "metadata": {
        "id": "0cu-m6QglDHI"
      }
    },
    {
      "cell_type": "markdown",
      "source": [
        "In order to make it easier to understand by reading the headers, I changed the header for Pay, Bill_AMT, Pay_AMT by using month instead."
      ],
      "metadata": {
        "id": "le24IINPlS9j"
      }
    },
    {
      "cell_type": "code",
      "source": [
        "pay_cols = ['PAY_{}'.format(x) for x in range(1,7)]\n",
        "months=['SEP','AUG','JUL','JUN','MAY','APR']\n",
        "for i, (m,col) in enumerate(zip(months,pay_cols)):\n",
        "  data = data.rename(columns={col: 'PAY_'+m})"
      ],
      "metadata": {
        "id": "QJnHlrjQlfoy"
      },
      "execution_count": null,
      "outputs": []
    },
    {
      "cell_type": "code",
      "source": [
        "bill_cols = ['BILL_AMT{}'.format(x) for x in range(1,7)]\n",
        "months=['SEP','AUG','JUL','JUN','MAY','APR']\n",
        "for i, (m,col) in enumerate(zip(months,bill_cols)):\n",
        "  data = data.rename(columns={col: 'BILL_AMT_'+m})"
      ],
      "metadata": {
        "id": "rgNAO0xUo2F8"
      },
      "execution_count": null,
      "outputs": []
    },
    {
      "cell_type": "code",
      "source": [
        "pay_amt_cols = ['PAY_AMT{}'.format(x) for x in range(1,7)]\n",
        "months=['SEP','AUG','JUL','JUN','MAY','APR']\n",
        "for i, (m,col) in enumerate(zip(months,pay_amt_cols)):\n",
        "  data = data.rename(columns={col: 'PAY_AMT_'+m})"
      ],
      "metadata": {
        "id": "LmnqgCWrpm0P"
      },
      "execution_count": null,
      "outputs": []
    },
    {
      "cell_type": "code",
      "source": [
        "data.head()"
      ],
      "metadata": {
        "colab": {
          "base_uri": "https://localhost:8080/",
          "height": 267
        },
        "id": "OzLdH9YUouHH",
        "outputId": "6ea9c8a1-e59e-4b82-8ab3-07d8f3635426"
      },
      "execution_count": null,
      "outputs": [
        {
          "output_type": "execute_result",
          "data": {
            "text/plain": [
              "    LIMIT_BAL  SEX  EDUCATION  MARRIAGE  AGE  PAY_SEP  PAY_AUG  PAY_JUL  \\\n",
              "ID                                                                        \n",
              "1       20000    2          2         1   24        2        2       -1   \n",
              "2      120000    2          2         2   26       -1        2        0   \n",
              "3       90000    2          2         2   34        0        0        0   \n",
              "4       50000    2          2         1   37        0        0        0   \n",
              "5       50000    1          2         1   57       -1        0       -1   \n",
              "\n",
              "    PAY_JUN  PAY_MAY  ...  BILL_AMT_JUN  BILL_AMT_MAY  BILL_AMT_APR  \\\n",
              "ID                    ...                                             \n",
              "1        -1       -2  ...             0             0             0   \n",
              "2         0        0  ...          3272          3455          3261   \n",
              "3         0        0  ...         14331         14948         15549   \n",
              "4         0        0  ...         28314         28959         29547   \n",
              "5         0        0  ...         20940         19146         19131   \n",
              "\n",
              "    PAY_AMT_SEP  PAY_AMT_AUG  PAY_AMT_JUL  PAY_AMT_JUN  PAY_AMT_MAY  \\\n",
              "ID                                                                    \n",
              "1             0          689            0            0            0   \n",
              "2             0         1000         1000         1000            0   \n",
              "3          1518         1500         1000         1000         1000   \n",
              "4          2000         2019         1200         1100         1069   \n",
              "5          2000        36681        10000         9000          689   \n",
              "\n",
              "    PAY_AMT_APR  default payment next month  \n",
              "ID                                           \n",
              "1             0                           1  \n",
              "2          2000                           1  \n",
              "3          5000                           0  \n",
              "4          1000                           0  \n",
              "5           679                           0  \n",
              "\n",
              "[5 rows x 24 columns]"
            ],
            "text/html": [
              "\n",
              "  <div id=\"df-12db3e8c-45cb-4d5a-9f5d-24e40e1612dc\">\n",
              "    <div class=\"colab-df-container\">\n",
              "      <div>\n",
              "<style scoped>\n",
              "    .dataframe tbody tr th:only-of-type {\n",
              "        vertical-align: middle;\n",
              "    }\n",
              "\n",
              "    .dataframe tbody tr th {\n",
              "        vertical-align: top;\n",
              "    }\n",
              "\n",
              "    .dataframe thead th {\n",
              "        text-align: right;\n",
              "    }\n",
              "</style>\n",
              "<table border=\"1\" class=\"dataframe\">\n",
              "  <thead>\n",
              "    <tr style=\"text-align: right;\">\n",
              "      <th></th>\n",
              "      <th>LIMIT_BAL</th>\n",
              "      <th>SEX</th>\n",
              "      <th>EDUCATION</th>\n",
              "      <th>MARRIAGE</th>\n",
              "      <th>AGE</th>\n",
              "      <th>PAY_SEP</th>\n",
              "      <th>PAY_AUG</th>\n",
              "      <th>PAY_JUL</th>\n",
              "      <th>PAY_JUN</th>\n",
              "      <th>PAY_MAY</th>\n",
              "      <th>...</th>\n",
              "      <th>BILL_AMT_JUN</th>\n",
              "      <th>BILL_AMT_MAY</th>\n",
              "      <th>BILL_AMT_APR</th>\n",
              "      <th>PAY_AMT_SEP</th>\n",
              "      <th>PAY_AMT_AUG</th>\n",
              "      <th>PAY_AMT_JUL</th>\n",
              "      <th>PAY_AMT_JUN</th>\n",
              "      <th>PAY_AMT_MAY</th>\n",
              "      <th>PAY_AMT_APR</th>\n",
              "      <th>default payment next month</th>\n",
              "    </tr>\n",
              "    <tr>\n",
              "      <th>ID</th>\n",
              "      <th></th>\n",
              "      <th></th>\n",
              "      <th></th>\n",
              "      <th></th>\n",
              "      <th></th>\n",
              "      <th></th>\n",
              "      <th></th>\n",
              "      <th></th>\n",
              "      <th></th>\n",
              "      <th></th>\n",
              "      <th></th>\n",
              "      <th></th>\n",
              "      <th></th>\n",
              "      <th></th>\n",
              "      <th></th>\n",
              "      <th></th>\n",
              "      <th></th>\n",
              "      <th></th>\n",
              "      <th></th>\n",
              "      <th></th>\n",
              "      <th></th>\n",
              "    </tr>\n",
              "  </thead>\n",
              "  <tbody>\n",
              "    <tr>\n",
              "      <th>1</th>\n",
              "      <td>20000</td>\n",
              "      <td>2</td>\n",
              "      <td>2</td>\n",
              "      <td>1</td>\n",
              "      <td>24</td>\n",
              "      <td>2</td>\n",
              "      <td>2</td>\n",
              "      <td>-1</td>\n",
              "      <td>-1</td>\n",
              "      <td>-2</td>\n",
              "      <td>...</td>\n",
              "      <td>0</td>\n",
              "      <td>0</td>\n",
              "      <td>0</td>\n",
              "      <td>0</td>\n",
              "      <td>689</td>\n",
              "      <td>0</td>\n",
              "      <td>0</td>\n",
              "      <td>0</td>\n",
              "      <td>0</td>\n",
              "      <td>1</td>\n",
              "    </tr>\n",
              "    <tr>\n",
              "      <th>2</th>\n",
              "      <td>120000</td>\n",
              "      <td>2</td>\n",
              "      <td>2</td>\n",
              "      <td>2</td>\n",
              "      <td>26</td>\n",
              "      <td>-1</td>\n",
              "      <td>2</td>\n",
              "      <td>0</td>\n",
              "      <td>0</td>\n",
              "      <td>0</td>\n",
              "      <td>...</td>\n",
              "      <td>3272</td>\n",
              "      <td>3455</td>\n",
              "      <td>3261</td>\n",
              "      <td>0</td>\n",
              "      <td>1000</td>\n",
              "      <td>1000</td>\n",
              "      <td>1000</td>\n",
              "      <td>0</td>\n",
              "      <td>2000</td>\n",
              "      <td>1</td>\n",
              "    </tr>\n",
              "    <tr>\n",
              "      <th>3</th>\n",
              "      <td>90000</td>\n",
              "      <td>2</td>\n",
              "      <td>2</td>\n",
              "      <td>2</td>\n",
              "      <td>34</td>\n",
              "      <td>0</td>\n",
              "      <td>0</td>\n",
              "      <td>0</td>\n",
              "      <td>0</td>\n",
              "      <td>0</td>\n",
              "      <td>...</td>\n",
              "      <td>14331</td>\n",
              "      <td>14948</td>\n",
              "      <td>15549</td>\n",
              "      <td>1518</td>\n",
              "      <td>1500</td>\n",
              "      <td>1000</td>\n",
              "      <td>1000</td>\n",
              "      <td>1000</td>\n",
              "      <td>5000</td>\n",
              "      <td>0</td>\n",
              "    </tr>\n",
              "    <tr>\n",
              "      <th>4</th>\n",
              "      <td>50000</td>\n",
              "      <td>2</td>\n",
              "      <td>2</td>\n",
              "      <td>1</td>\n",
              "      <td>37</td>\n",
              "      <td>0</td>\n",
              "      <td>0</td>\n",
              "      <td>0</td>\n",
              "      <td>0</td>\n",
              "      <td>0</td>\n",
              "      <td>...</td>\n",
              "      <td>28314</td>\n",
              "      <td>28959</td>\n",
              "      <td>29547</td>\n",
              "      <td>2000</td>\n",
              "      <td>2019</td>\n",
              "      <td>1200</td>\n",
              "      <td>1100</td>\n",
              "      <td>1069</td>\n",
              "      <td>1000</td>\n",
              "      <td>0</td>\n",
              "    </tr>\n",
              "    <tr>\n",
              "      <th>5</th>\n",
              "      <td>50000</td>\n",
              "      <td>1</td>\n",
              "      <td>2</td>\n",
              "      <td>1</td>\n",
              "      <td>57</td>\n",
              "      <td>-1</td>\n",
              "      <td>0</td>\n",
              "      <td>-1</td>\n",
              "      <td>0</td>\n",
              "      <td>0</td>\n",
              "      <td>...</td>\n",
              "      <td>20940</td>\n",
              "      <td>19146</td>\n",
              "      <td>19131</td>\n",
              "      <td>2000</td>\n",
              "      <td>36681</td>\n",
              "      <td>10000</td>\n",
              "      <td>9000</td>\n",
              "      <td>689</td>\n",
              "      <td>679</td>\n",
              "      <td>0</td>\n",
              "    </tr>\n",
              "  </tbody>\n",
              "</table>\n",
              "<p>5 rows × 24 columns</p>\n",
              "</div>\n",
              "      <button class=\"colab-df-convert\" onclick=\"convertToInteractive('df-12db3e8c-45cb-4d5a-9f5d-24e40e1612dc')\"\n",
              "              title=\"Convert this dataframe to an interactive table.\"\n",
              "              style=\"display:none;\">\n",
              "        \n",
              "  <svg xmlns=\"http://www.w3.org/2000/svg\" height=\"24px\"viewBox=\"0 0 24 24\"\n",
              "       width=\"24px\">\n",
              "    <path d=\"M0 0h24v24H0V0z\" fill=\"none\"/>\n",
              "    <path d=\"M18.56 5.44l.94 2.06.94-2.06 2.06-.94-2.06-.94-.94-2.06-.94 2.06-2.06.94zm-11 1L8.5 8.5l.94-2.06 2.06-.94-2.06-.94L8.5 2.5l-.94 2.06-2.06.94zm10 10l.94 2.06.94-2.06 2.06-.94-2.06-.94-.94-2.06-.94 2.06-2.06.94z\"/><path d=\"M17.41 7.96l-1.37-1.37c-.4-.4-.92-.59-1.43-.59-.52 0-1.04.2-1.43.59L10.3 9.45l-7.72 7.72c-.78.78-.78 2.05 0 2.83L4 21.41c.39.39.9.59 1.41.59.51 0 1.02-.2 1.41-.59l7.78-7.78 2.81-2.81c.8-.78.8-2.07 0-2.86zM5.41 20L4 18.59l7.72-7.72 1.47 1.35L5.41 20z\"/>\n",
              "  </svg>\n",
              "      </button>\n",
              "      \n",
              "  <style>\n",
              "    .colab-df-container {\n",
              "      display:flex;\n",
              "      flex-wrap:wrap;\n",
              "      gap: 12px;\n",
              "    }\n",
              "\n",
              "    .colab-df-convert {\n",
              "      background-color: #E8F0FE;\n",
              "      border: none;\n",
              "      border-radius: 50%;\n",
              "      cursor: pointer;\n",
              "      display: none;\n",
              "      fill: #1967D2;\n",
              "      height: 32px;\n",
              "      padding: 0 0 0 0;\n",
              "      width: 32px;\n",
              "    }\n",
              "\n",
              "    .colab-df-convert:hover {\n",
              "      background-color: #E2EBFA;\n",
              "      box-shadow: 0px 1px 2px rgba(60, 64, 67, 0.3), 0px 1px 3px 1px rgba(60, 64, 67, 0.15);\n",
              "      fill: #174EA6;\n",
              "    }\n",
              "\n",
              "    [theme=dark] .colab-df-convert {\n",
              "      background-color: #3B4455;\n",
              "      fill: #D2E3FC;\n",
              "    }\n",
              "\n",
              "    [theme=dark] .colab-df-convert:hover {\n",
              "      background-color: #434B5C;\n",
              "      box-shadow: 0px 1px 3px 1px rgba(0, 0, 0, 0.15);\n",
              "      filter: drop-shadow(0px 1px 2px rgba(0, 0, 0, 0.3));\n",
              "      fill: #FFFFFF;\n",
              "    }\n",
              "  </style>\n",
              "\n",
              "      <script>\n",
              "        const buttonEl =\n",
              "          document.querySelector('#df-12db3e8c-45cb-4d5a-9f5d-24e40e1612dc button.colab-df-convert');\n",
              "        buttonEl.style.display =\n",
              "          google.colab.kernel.accessAllowed ? 'block' : 'none';\n",
              "\n",
              "        async function convertToInteractive(key) {\n",
              "          const element = document.querySelector('#df-12db3e8c-45cb-4d5a-9f5d-24e40e1612dc');\n",
              "          const dataTable =\n",
              "            await google.colab.kernel.invokeFunction('convertToInteractive',\n",
              "                                                     [key], {});\n",
              "          if (!dataTable) return;\n",
              "\n",
              "          const docLinkHtml = 'Like what you see? Visit the ' +\n",
              "            '<a target=\"_blank\" href=https://colab.research.google.com/notebooks/data_table.ipynb>data table notebook</a>'\n",
              "            + ' to learn more about interactive tables.';\n",
              "          element.innerHTML = '';\n",
              "          dataTable['output_type'] = 'display_data';\n",
              "          await google.colab.output.renderOutput(dataTable, element);\n",
              "          const docLink = document.createElement('div');\n",
              "          docLink.innerHTML = docLinkHtml;\n",
              "          element.appendChild(docLink);\n",
              "        }\n",
              "      </script>\n",
              "    </div>\n",
              "  </div>\n",
              "  "
            ]
          },
          "metadata": {},
          "execution_count": 17
        }
      ]
    },
    {
      "cell_type": "markdown",
      "source": [
        "All data are numeric"
      ],
      "metadata": {
        "id": "Atn8AxYoZAc3"
      }
    },
    {
      "cell_type": "code",
      "source": [
        "data.columns"
      ],
      "metadata": {
        "colab": {
          "base_uri": "https://localhost:8080/"
        },
        "id": "D3wn0K0XriMp",
        "outputId": "b1b21375-a71a-429b-8f28-28961fe23ca9"
      },
      "execution_count": null,
      "outputs": [
        {
          "output_type": "execute_result",
          "data": {
            "text/plain": [
              "Index(['LIMIT_BAL', 'SEX', 'EDUCATION', 'MARRIAGE', 'AGE', 'PAY_SEP',\n",
              "       'PAY_AUG', 'PAY_JUL', 'PAY_JUN', 'PAY_MAY', 'PAY_APR', 'BILL_AMT_SEP',\n",
              "       'BILL_AMT_AUG', 'BILL_AMT_JUL', 'BILL_AMT_JUN', 'BILL_AMT_MAY',\n",
              "       'BILL_AMT_APR', 'PAY_AMT_SEP', 'PAY_AMT_AUG', 'PAY_AMT_JUL',\n",
              "       'PAY_AMT_JUN', 'PAY_AMT_MAY', 'PAY_AMT_APR',\n",
              "       'default payment next month'],\n",
              "      dtype='object')"
            ]
          },
          "metadata": {},
          "execution_count": 18
        }
      ]
    },
    {
      "cell_type": "markdown",
      "source": [
        "#### 4) Understand the numerical features"
      ],
      "metadata": {
        "id": "MnBjuojgWfLz"
      }
    },
    {
      "cell_type": "code",
      "execution_count": null,
      "metadata": {
        "id": "ztihjiDqHGh_"
      },
      "outputs": [],
      "source": [
        "\n",
        "numerical_features = [\n",
        "    'LIMIT_BAL', 'AGE', 'BILL_AMT_SEP','BILL_AMT_AUG', \n",
        "    'BILL_AMT_JUL', 'BILL_AMT_JUN', 'BILL_AMT_MAY',\n",
        "    'BILL_AMT_APR', 'PAY_AMT_SEP', 'PAY_AMT_AUG', 'PAY_AMT_JUL',\n",
        "    'PAY_AMT_JUN', 'PAY_AMT_MAY', 'PAY_AMT_APR'\n",
        "    ]\n"
      ]
    },
    {
      "cell_type": "markdown",
      "source": [
        "###### Check if there is any abnormal in the numerical data"
      ],
      "metadata": {
        "id": "uMGsOPFuW-zo"
      }
    },
    {
      "cell_type": "code",
      "execution_count": null,
      "metadata": {
        "colab": {
          "base_uri": "https://localhost:8080/",
          "height": 300
        },
        "id": "grCTDuOnH3iw",
        "outputId": "ec78bf1d-f601-4552-dba1-4518662e60a4"
      },
      "outputs": [
        {
          "output_type": "execute_result",
          "data": {
            "text/plain": [
              "            LIMIT_BAL           AGE   BILL_AMT_SEP   BILL_AMT_AUG  \\\n",
              "count    30000.000000  30000.000000   30000.000000   30000.000000   \n",
              "mean    167484.322667     35.485500   51223.330900   49179.075167   \n",
              "std     129747.661567      9.217904   73635.860576   71173.768783   \n",
              "min      10000.000000     21.000000 -165580.000000  -69777.000000   \n",
              "25%      50000.000000     28.000000    3558.750000    2984.750000   \n",
              "50%     140000.000000     34.000000   22381.500000   21200.000000   \n",
              "75%     240000.000000     41.000000   67091.000000   64006.250000   \n",
              "max    1000000.000000     79.000000  964511.000000  983931.000000   \n",
              "\n",
              "       BILL_AMT_JUL   BILL_AMT_JUN   BILL_AMT_MAY   BILL_AMT_APR  \\\n",
              "count  3.000000e+04   30000.000000   30000.000000   30000.000000   \n",
              "mean   4.701315e+04   43262.948967   40311.400967   38871.760400   \n",
              "std    6.934939e+04   64332.856134   60797.155770   59554.107537   \n",
              "min   -1.572640e+05 -170000.000000  -81334.000000 -339603.000000   \n",
              "25%    2.666250e+03    2326.750000    1763.000000    1256.000000   \n",
              "50%    2.008850e+04   19052.000000   18104.500000   17071.000000   \n",
              "75%    6.016475e+04   54506.000000   50190.500000   49198.250000   \n",
              "max    1.664089e+06  891586.000000  927171.000000  961664.000000   \n",
              "\n",
              "         PAY_AMT_SEP   PAY_AMT_AUG   PAY_AMT_JUL    PAY_AMT_JUN  \\\n",
              "count   30000.000000  3.000000e+04   30000.00000   30000.000000   \n",
              "mean     5663.580500  5.921163e+03    5225.68150    4826.076867   \n",
              "std     16563.280354  2.304087e+04   17606.96147   15666.159744   \n",
              "min         0.000000  0.000000e+00       0.00000       0.000000   \n",
              "25%      1000.000000  8.330000e+02     390.00000     296.000000   \n",
              "50%      2100.000000  2.009000e+03    1800.00000    1500.000000   \n",
              "75%      5006.000000  5.000000e+03    4505.00000    4013.250000   \n",
              "max    873552.000000  1.684259e+06  896040.00000  621000.000000   \n",
              "\n",
              "         PAY_AMT_MAY    PAY_AMT_APR  \n",
              "count   30000.000000   30000.000000  \n",
              "mean     4799.387633    5215.502567  \n",
              "std     15278.305679   17777.465775  \n",
              "min         0.000000       0.000000  \n",
              "25%       252.500000     117.750000  \n",
              "50%      1500.000000    1500.000000  \n",
              "75%      4031.500000    4000.000000  \n",
              "max    426529.000000  528666.000000  "
            ],
            "text/html": [
              "\n",
              "  <div id=\"df-2073e872-a0d4-44ad-9d48-6b5e35582e4b\">\n",
              "    <div class=\"colab-df-container\">\n",
              "      <div>\n",
              "<style scoped>\n",
              "    .dataframe tbody tr th:only-of-type {\n",
              "        vertical-align: middle;\n",
              "    }\n",
              "\n",
              "    .dataframe tbody tr th {\n",
              "        vertical-align: top;\n",
              "    }\n",
              "\n",
              "    .dataframe thead th {\n",
              "        text-align: right;\n",
              "    }\n",
              "</style>\n",
              "<table border=\"1\" class=\"dataframe\">\n",
              "  <thead>\n",
              "    <tr style=\"text-align: right;\">\n",
              "      <th></th>\n",
              "      <th>LIMIT_BAL</th>\n",
              "      <th>AGE</th>\n",
              "      <th>BILL_AMT_SEP</th>\n",
              "      <th>BILL_AMT_AUG</th>\n",
              "      <th>BILL_AMT_JUL</th>\n",
              "      <th>BILL_AMT_JUN</th>\n",
              "      <th>BILL_AMT_MAY</th>\n",
              "      <th>BILL_AMT_APR</th>\n",
              "      <th>PAY_AMT_SEP</th>\n",
              "      <th>PAY_AMT_AUG</th>\n",
              "      <th>PAY_AMT_JUL</th>\n",
              "      <th>PAY_AMT_JUN</th>\n",
              "      <th>PAY_AMT_MAY</th>\n",
              "      <th>PAY_AMT_APR</th>\n",
              "    </tr>\n",
              "  </thead>\n",
              "  <tbody>\n",
              "    <tr>\n",
              "      <th>count</th>\n",
              "      <td>30000.000000</td>\n",
              "      <td>30000.000000</td>\n",
              "      <td>30000.000000</td>\n",
              "      <td>30000.000000</td>\n",
              "      <td>3.000000e+04</td>\n",
              "      <td>30000.000000</td>\n",
              "      <td>30000.000000</td>\n",
              "      <td>30000.000000</td>\n",
              "      <td>30000.000000</td>\n",
              "      <td>3.000000e+04</td>\n",
              "      <td>30000.00000</td>\n",
              "      <td>30000.000000</td>\n",
              "      <td>30000.000000</td>\n",
              "      <td>30000.000000</td>\n",
              "    </tr>\n",
              "    <tr>\n",
              "      <th>mean</th>\n",
              "      <td>167484.322667</td>\n",
              "      <td>35.485500</td>\n",
              "      <td>51223.330900</td>\n",
              "      <td>49179.075167</td>\n",
              "      <td>4.701315e+04</td>\n",
              "      <td>43262.948967</td>\n",
              "      <td>40311.400967</td>\n",
              "      <td>38871.760400</td>\n",
              "      <td>5663.580500</td>\n",
              "      <td>5.921163e+03</td>\n",
              "      <td>5225.68150</td>\n",
              "      <td>4826.076867</td>\n",
              "      <td>4799.387633</td>\n",
              "      <td>5215.502567</td>\n",
              "    </tr>\n",
              "    <tr>\n",
              "      <th>std</th>\n",
              "      <td>129747.661567</td>\n",
              "      <td>9.217904</td>\n",
              "      <td>73635.860576</td>\n",
              "      <td>71173.768783</td>\n",
              "      <td>6.934939e+04</td>\n",
              "      <td>64332.856134</td>\n",
              "      <td>60797.155770</td>\n",
              "      <td>59554.107537</td>\n",
              "      <td>16563.280354</td>\n",
              "      <td>2.304087e+04</td>\n",
              "      <td>17606.96147</td>\n",
              "      <td>15666.159744</td>\n",
              "      <td>15278.305679</td>\n",
              "      <td>17777.465775</td>\n",
              "    </tr>\n",
              "    <tr>\n",
              "      <th>min</th>\n",
              "      <td>10000.000000</td>\n",
              "      <td>21.000000</td>\n",
              "      <td>-165580.000000</td>\n",
              "      <td>-69777.000000</td>\n",
              "      <td>-1.572640e+05</td>\n",
              "      <td>-170000.000000</td>\n",
              "      <td>-81334.000000</td>\n",
              "      <td>-339603.000000</td>\n",
              "      <td>0.000000</td>\n",
              "      <td>0.000000e+00</td>\n",
              "      <td>0.00000</td>\n",
              "      <td>0.000000</td>\n",
              "      <td>0.000000</td>\n",
              "      <td>0.000000</td>\n",
              "    </tr>\n",
              "    <tr>\n",
              "      <th>25%</th>\n",
              "      <td>50000.000000</td>\n",
              "      <td>28.000000</td>\n",
              "      <td>3558.750000</td>\n",
              "      <td>2984.750000</td>\n",
              "      <td>2.666250e+03</td>\n",
              "      <td>2326.750000</td>\n",
              "      <td>1763.000000</td>\n",
              "      <td>1256.000000</td>\n",
              "      <td>1000.000000</td>\n",
              "      <td>8.330000e+02</td>\n",
              "      <td>390.00000</td>\n",
              "      <td>296.000000</td>\n",
              "      <td>252.500000</td>\n",
              "      <td>117.750000</td>\n",
              "    </tr>\n",
              "    <tr>\n",
              "      <th>50%</th>\n",
              "      <td>140000.000000</td>\n",
              "      <td>34.000000</td>\n",
              "      <td>22381.500000</td>\n",
              "      <td>21200.000000</td>\n",
              "      <td>2.008850e+04</td>\n",
              "      <td>19052.000000</td>\n",
              "      <td>18104.500000</td>\n",
              "      <td>17071.000000</td>\n",
              "      <td>2100.000000</td>\n",
              "      <td>2.009000e+03</td>\n",
              "      <td>1800.00000</td>\n",
              "      <td>1500.000000</td>\n",
              "      <td>1500.000000</td>\n",
              "      <td>1500.000000</td>\n",
              "    </tr>\n",
              "    <tr>\n",
              "      <th>75%</th>\n",
              "      <td>240000.000000</td>\n",
              "      <td>41.000000</td>\n",
              "      <td>67091.000000</td>\n",
              "      <td>64006.250000</td>\n",
              "      <td>6.016475e+04</td>\n",
              "      <td>54506.000000</td>\n",
              "      <td>50190.500000</td>\n",
              "      <td>49198.250000</td>\n",
              "      <td>5006.000000</td>\n",
              "      <td>5.000000e+03</td>\n",
              "      <td>4505.00000</td>\n",
              "      <td>4013.250000</td>\n",
              "      <td>4031.500000</td>\n",
              "      <td>4000.000000</td>\n",
              "    </tr>\n",
              "    <tr>\n",
              "      <th>max</th>\n",
              "      <td>1000000.000000</td>\n",
              "      <td>79.000000</td>\n",
              "      <td>964511.000000</td>\n",
              "      <td>983931.000000</td>\n",
              "      <td>1.664089e+06</td>\n",
              "      <td>891586.000000</td>\n",
              "      <td>927171.000000</td>\n",
              "      <td>961664.000000</td>\n",
              "      <td>873552.000000</td>\n",
              "      <td>1.684259e+06</td>\n",
              "      <td>896040.00000</td>\n",
              "      <td>621000.000000</td>\n",
              "      <td>426529.000000</td>\n",
              "      <td>528666.000000</td>\n",
              "    </tr>\n",
              "  </tbody>\n",
              "</table>\n",
              "</div>\n",
              "      <button class=\"colab-df-convert\" onclick=\"convertToInteractive('df-2073e872-a0d4-44ad-9d48-6b5e35582e4b')\"\n",
              "              title=\"Convert this dataframe to an interactive table.\"\n",
              "              style=\"display:none;\">\n",
              "        \n",
              "  <svg xmlns=\"http://www.w3.org/2000/svg\" height=\"24px\"viewBox=\"0 0 24 24\"\n",
              "       width=\"24px\">\n",
              "    <path d=\"M0 0h24v24H0V0z\" fill=\"none\"/>\n",
              "    <path d=\"M18.56 5.44l.94 2.06.94-2.06 2.06-.94-2.06-.94-.94-2.06-.94 2.06-2.06.94zm-11 1L8.5 8.5l.94-2.06 2.06-.94-2.06-.94L8.5 2.5l-.94 2.06-2.06.94zm10 10l.94 2.06.94-2.06 2.06-.94-2.06-.94-.94-2.06-.94 2.06-2.06.94z\"/><path d=\"M17.41 7.96l-1.37-1.37c-.4-.4-.92-.59-1.43-.59-.52 0-1.04.2-1.43.59L10.3 9.45l-7.72 7.72c-.78.78-.78 2.05 0 2.83L4 21.41c.39.39.9.59 1.41.59.51 0 1.02-.2 1.41-.59l7.78-7.78 2.81-2.81c.8-.78.8-2.07 0-2.86zM5.41 20L4 18.59l7.72-7.72 1.47 1.35L5.41 20z\"/>\n",
              "  </svg>\n",
              "      </button>\n",
              "      \n",
              "  <style>\n",
              "    .colab-df-container {\n",
              "      display:flex;\n",
              "      flex-wrap:wrap;\n",
              "      gap: 12px;\n",
              "    }\n",
              "\n",
              "    .colab-df-convert {\n",
              "      background-color: #E8F0FE;\n",
              "      border: none;\n",
              "      border-radius: 50%;\n",
              "      cursor: pointer;\n",
              "      display: none;\n",
              "      fill: #1967D2;\n",
              "      height: 32px;\n",
              "      padding: 0 0 0 0;\n",
              "      width: 32px;\n",
              "    }\n",
              "\n",
              "    .colab-df-convert:hover {\n",
              "      background-color: #E2EBFA;\n",
              "      box-shadow: 0px 1px 2px rgba(60, 64, 67, 0.3), 0px 1px 3px 1px rgba(60, 64, 67, 0.15);\n",
              "      fill: #174EA6;\n",
              "    }\n",
              "\n",
              "    [theme=dark] .colab-df-convert {\n",
              "      background-color: #3B4455;\n",
              "      fill: #D2E3FC;\n",
              "    }\n",
              "\n",
              "    [theme=dark] .colab-df-convert:hover {\n",
              "      background-color: #434B5C;\n",
              "      box-shadow: 0px 1px 3px 1px rgba(0, 0, 0, 0.15);\n",
              "      filter: drop-shadow(0px 1px 2px rgba(0, 0, 0, 0.3));\n",
              "      fill: #FFFFFF;\n",
              "    }\n",
              "  </style>\n",
              "\n",
              "      <script>\n",
              "        const buttonEl =\n",
              "          document.querySelector('#df-2073e872-a0d4-44ad-9d48-6b5e35582e4b button.colab-df-convert');\n",
              "        buttonEl.style.display =\n",
              "          google.colab.kernel.accessAllowed ? 'block' : 'none';\n",
              "\n",
              "        async function convertToInteractive(key) {\n",
              "          const element = document.querySelector('#df-2073e872-a0d4-44ad-9d48-6b5e35582e4b');\n",
              "          const dataTable =\n",
              "            await google.colab.kernel.invokeFunction('convertToInteractive',\n",
              "                                                     [key], {});\n",
              "          if (!dataTable) return;\n",
              "\n",
              "          const docLinkHtml = 'Like what you see? Visit the ' +\n",
              "            '<a target=\"_blank\" href=https://colab.research.google.com/notebooks/data_table.ipynb>data table notebook</a>'\n",
              "            + ' to learn more about interactive tables.';\n",
              "          element.innerHTML = '';\n",
              "          dataTable['output_type'] = 'display_data';\n",
              "          await google.colab.output.renderOutput(dataTable, element);\n",
              "          const docLink = document.createElement('div');\n",
              "          docLink.innerHTML = docLinkHtml;\n",
              "          element.appendChild(docLink);\n",
              "        }\n",
              "      </script>\n",
              "    </div>\n",
              "  </div>\n",
              "  "
            ]
          },
          "metadata": {},
          "execution_count": 20
        }
      ],
      "source": [
        "data[numerical_features].describe()"
      ]
    },
    {
      "cell_type": "markdown",
      "source": [
        "To note: There are negative numbers in Bill Amount columns. I interpret that the individuals have paid more than they required."
      ],
      "metadata": {
        "id": "eI7ugfmhYP-X"
      }
    },
    {
      "cell_type": "markdown",
      "source": [
        "#### 5) Understand Categorical data"
      ],
      "metadata": {
        "id": "pTqDoKghZhSU"
      }
    },
    {
      "cell_type": "markdown",
      "source": [
        "All the categorical columns are in number already."
      ],
      "metadata": {
        "id": "kAeBAvgwXqfW"
      }
    },
    {
      "cell_type": "markdown",
      "metadata": {
        "id": "iIWDlw0VBLvj"
      },
      "source": [
        "##### Check data typo / consistency"
      ]
    },
    {
      "cell_type": "code",
      "execution_count": null,
      "metadata": {
        "id": "M5S21eu-AeJ-"
      },
      "outputs": [],
      "source": [
        "categorical_features = [\n",
        "    'SEX','EDUCATION','MARRIAGE',\n",
        "    'PAY_SEP','PAY_AUG', 'PAY_JUL', \n",
        "    'PAY_JUN', 'PAY_MAY', 'PAY_APR',\n",
        "    'default payment next month'\n",
        "    ]"
      ]
    },
    {
      "cell_type": "code",
      "source": [
        "data[categorical_features].count()"
      ],
      "metadata": {
        "colab": {
          "base_uri": "https://localhost:8080/"
        },
        "id": "xznBe-VWaAxm",
        "outputId": "01a944fb-c3ab-4933-9a09-d2eefaec5db1"
      },
      "execution_count": null,
      "outputs": [
        {
          "output_type": "execute_result",
          "data": {
            "text/plain": [
              "SEX                           30000\n",
              "EDUCATION                     30000\n",
              "MARRIAGE                      30000\n",
              "PAY_SEP                       30000\n",
              "PAY_AUG                       30000\n",
              "PAY_JUL                       30000\n",
              "PAY_JUN                       30000\n",
              "PAY_MAY                       30000\n",
              "PAY_APR                       30000\n",
              "default payment next month    30000\n",
              "dtype: int64"
            ]
          },
          "metadata": {},
          "execution_count": 22
        }
      ]
    },
    {
      "cell_type": "code",
      "execution_count": null,
      "metadata": {
        "colab": {
          "base_uri": "https://localhost:8080/"
        },
        "id": "yQDdxSWbBtN2",
        "outputId": "633c70ce-985b-45e0-b0ef-f96292cee1ab"
      },
      "outputs": [
        {
          "output_type": "execute_result",
          "data": {
            "text/plain": [
              "SEX                           1\n",
              "EDUCATION                     0\n",
              "MARRIAGE                      0\n",
              "PAY_SEP                      -2\n",
              "PAY_AUG                      -2\n",
              "PAY_JUL                      -2\n",
              "PAY_JUN                      -2\n",
              "PAY_MAY                      -2\n",
              "PAY_APR                      -2\n",
              "default payment next month    0\n",
              "dtype: int64"
            ]
          },
          "metadata": {},
          "execution_count": 23
        }
      ],
      "source": [
        "data[categorical_features].count()\n",
        "data[categorical_features].min()"
      ]
    },
    {
      "cell_type": "code",
      "source": [
        "data[categorical_features].max()"
      ],
      "metadata": {
        "colab": {
          "base_uri": "https://localhost:8080/"
        },
        "id": "cCip8fxHZ98a",
        "outputId": "8f50adc3-17ba-450c-edcb-92891c52b625"
      },
      "execution_count": null,
      "outputs": [
        {
          "output_type": "execute_result",
          "data": {
            "text/plain": [
              "SEX                           2\n",
              "EDUCATION                     6\n",
              "MARRIAGE                      3\n",
              "PAY_SEP                       8\n",
              "PAY_AUG                       8\n",
              "PAY_JUL                       8\n",
              "PAY_JUN                       8\n",
              "PAY_MAY                       8\n",
              "PAY_APR                       8\n",
              "default payment next month    1\n",
              "dtype: int64"
            ]
          },
          "metadata": {},
          "execution_count": 24
        }
      ]
    },
    {
      "cell_type": "code",
      "source": [
        "for col in categorical_features:\n",
        "  print(col, data[col].unique())"
      ],
      "metadata": {
        "colab": {
          "base_uri": "https://localhost:8080/"
        },
        "id": "OaWsL08xtADy",
        "outputId": "a9b5e048-199e-43a6-affe-96584545a766"
      },
      "execution_count": null,
      "outputs": [
        {
          "output_type": "stream",
          "name": "stdout",
          "text": [
            "SEX [2 1]\n",
            "EDUCATION [2 1 3 5 4 6 0]\n",
            "MARRIAGE [1 2 3 0]\n",
            "PAY_SEP [ 2 -1  0 -2  1  3  4  8  7  5  6]\n",
            "PAY_AUG [ 2  0 -1 -2  3  5  7  4  1  6  8]\n",
            "PAY_JUL [-1  0  2 -2  3  4  6  7  1  5  8]\n",
            "PAY_JUN [-1  0 -2  2  3  4  5  7  6  1  8]\n",
            "PAY_MAY [-2  0 -1  2  3  5  4  7  8  6]\n",
            "PAY_APR [-2  2  0 -1  3  6  4  7  8  5]\n",
            "default payment next month [1 0]\n"
          ]
        }
      ]
    },
    {
      "cell_type": "markdown",
      "metadata": {
        "id": "JllF6NvoB6dK"
      },
      "source": [
        "#### Observation:\n",
        "\n",
        "1) According to the description of the data set, marriage should start with 1 not 0, so there are typos for all the marriage = 0. In that case, we categorize these rows as \"Others\" since we do not know the true value.\n",
        "\n",
        "2) Education should start at 1 not 0 and there is no category as \"5,6\". That's why we regroup those entries = 0,5,6 into 4 \"Others\". \n",
        "\n",
        "3) PAY columns should start -1 but not -2. \n"
      ]
    },
    {
      "cell_type": "markdown",
      "source": [
        "##### Fix marriage and education data"
      ],
      "metadata": {
        "id": "mHa4TOH2badA"
      }
    },
    {
      "cell_type": "code",
      "execution_count": null,
      "metadata": {
        "id": "Mq3lZgm-B0Eu"
      },
      "outputs": [],
      "source": [
        "# Fixing marriage\n",
        "data['MARRIAGE'] = data['MARRIAGE'].apply(lambda x: 3 if x == 0 else x)\n",
        "\n",
        "# Fixing education\n",
        "data['EDUCATION'] = data['EDUCATION'].apply(lambda x: 4 if x in [0, 5, 6] else x)"
      ]
    },
    {
      "cell_type": "markdown",
      "source": [
        "#### Fix PAY columns\n",
        "\n",
        "After understanding the PAY columns by investigating the balance using Pay_amount columns and Bill_amount columns (using Excel), we can assume \n",
        "\n",
        "-2 value for PAY columns represent paid in full amount, \n",
        "\n",
        "-1, 0 value represent the bill are partial payment. \n",
        "\n",
        "In order to make the analysis easier, we can group 0 to -1 as well. "
      ],
      "metadata": {
        "id": "ExiQHjGLbhGV"
      }
    },
    {
      "cell_type": "code",
      "execution_count": null,
      "metadata": {
        "id": "3reTZCDQEnOO"
      },
      "outputs": [],
      "source": [
        "# Fixing PAY Columns with value -2\n",
        "\n",
        "pay_cols = ['PAY_{}'.format(x) for x in months]\n",
        "months=['SEP','AUG','JUL','JUN','MAY','APR']\n",
        "for col in pay_cols:\n",
        "  data[col] = data[col].apply(lambda x: -1 if x in [-1,0] else x)\n"
      ]
    },
    {
      "cell_type": "markdown",
      "metadata": {
        "id": "jnfnOnkEISP7"
      },
      "source": [
        "## 2) Data Exploration"
      ]
    },
    {
      "cell_type": "markdown",
      "metadata": {
        "id": "r2PUyz_8J-9g"
      },
      "source": [
        "### I) Target value distribution and graphs"
      ]
    },
    {
      "cell_type": "markdown",
      "source": [
        "Column: default payment next month represents the account get defaulted the next month or not\n",
        "\n",
        "Class 0 means not defaulted\n",
        "\n",
        "Class 1 means defaulted"
      ],
      "metadata": {
        "id": "ElyGIf7bgfhz"
      }
    },
    {
      "cell_type": "code",
      "execution_count": null,
      "metadata": {
        "colab": {
          "base_uri": "https://localhost:8080/",
          "height": 419
        },
        "id": "5KCOw80pH7aZ",
        "outputId": "9ab0da9f-10f8-4ee0-922d-ec0c0fab10f5"
      },
      "outputs": [
        {
          "output_type": "display_data",
          "data": {
            "text/plain": [
              "<Figure size 576x432 with 1 Axes>"
            ],
            "image/png": "[encoded data removed]"
          },
          "metadata": {
            "needs_background": "light"
          }
        }
      ],
      "source": [
        "plt.figure(figsize = (8,6))\n",
        "target_count = data[\"default payment next month\"].value_counts()\n",
        "target_count = pd.DataFrame({'default payment next month': target_count.index,'values': target_count.values})\n",
        "plt.title('Default Credit Card Clients - Target Value distribution\\n(Default = 0, Not Default = 1)')\n",
        "sns.set_color_codes(\"pastel\")\n",
        "sns.barplot(x = 'default payment next month', y=\"values\", data=target_count)\n",
        "locs, labels = plt.xticks()\n",
        "plt.show()"
      ]
    },
    {
      "cell_type": "code",
      "execution_count": null,
      "metadata": {
        "colab": {
          "base_uri": "https://localhost:8080/",
          "height": 357
        },
        "id": "rQHpw-fgN7it",
        "outputId": "2f716ca9-dd11-416f-8696-2a55e78e4cf5"
      },
      "outputs": [
        {
          "output_type": "display_data",
          "data": {
            "text/plain": [
              "<Figure size 576x432 with 1 Axes>"
            ],
            "image/png": "[encoded data removed]"
          },
          "metadata": {}
        }
      ],
      "source": [
        "plt.figure(figsize = (8,6))\n",
        "pd.value_counts(data['default payment next month']).plot(kind='pie', y='default.payment.next.month', autopct='%1.0f%%');"
      ]
    },
    {
      "cell_type": "code",
      "execution_count": null,
      "metadata": {
        "colab": {
          "base_uri": "https://localhost:8080/",
          "height": 112
        },
        "id": "NwcPlQxLI3L4",
        "outputId": "5c81d7ac-5618-4520-ed2e-712e25616655"
      },
      "outputs": [
        {
          "output_type": "execute_result",
          "data": {
            "text/plain": [
              "   default payment next month  values  count in %\n",
              "0                           0   23364       77.88\n",
              "1                           1    6636       22.12"
            ],
            "text/html": [
              "\n",
              "  <div id=\"df-f2b35b9e-b2ff-4880-90fd-3847eb963cc9\">\n",
              "    <div class=\"colab-df-container\">\n",
              "      <div>\n",
              "<style scoped>\n",
              "    .dataframe tbody tr th:only-of-type {\n",
              "        vertical-align: middle;\n",
              "    }\n",
              "\n",
              "    .dataframe tbody tr th {\n",
              "        vertical-align: top;\n",
              "    }\n",
              "\n",
              "    .dataframe thead th {\n",
              "        text-align: right;\n",
              "    }\n",
              "</style>\n",
              "<table border=\"1\" class=\"dataframe\">\n",
              "  <thead>\n",
              "    <tr style=\"text-align: right;\">\n",
              "      <th></th>\n",
              "      <th>default payment next month</th>\n",
              "      <th>values</th>\n",
              "      <th>count in %</th>\n",
              "    </tr>\n",
              "  </thead>\n",
              "  <tbody>\n",
              "    <tr>\n",
              "      <th>0</th>\n",
              "      <td>0</td>\n",
              "      <td>23364</td>\n",
              "      <td>77.88</td>\n",
              "    </tr>\n",
              "    <tr>\n",
              "      <th>1</th>\n",
              "      <td>1</td>\n",
              "      <td>6636</td>\n",
              "      <td>22.12</td>\n",
              "    </tr>\n",
              "  </tbody>\n",
              "</table>\n",
              "</div>\n",
              "      <button class=\"colab-df-convert\" onclick=\"convertToInteractive('df-f2b35b9e-b2ff-4880-90fd-3847eb963cc9')\"\n",
              "              title=\"Convert this dataframe to an interactive table.\"\n",
              "              style=\"display:none;\">\n",
              "        \n",
              "  <svg xmlns=\"http://www.w3.org/2000/svg\" height=\"24px\"viewBox=\"0 0 24 24\"\n",
              "       width=\"24px\">\n",
              "    <path d=\"M0 0h24v24H0V0z\" fill=\"none\"/>\n",
              "    <path d=\"M18.56 5.44l.94 2.06.94-2.06 2.06-.94-2.06-.94-.94-2.06-.94 2.06-2.06.94zm-11 1L8.5 8.5l.94-2.06 2.06-.94-2.06-.94L8.5 2.5l-.94 2.06-2.06.94zm10 10l.94 2.06.94-2.06 2.06-.94-2.06-.94-.94-2.06-.94 2.06-2.06.94z\"/><path d=\"M17.41 7.96l-1.37-1.37c-.4-.4-.92-.59-1.43-.59-.52 0-1.04.2-1.43.59L10.3 9.45l-7.72 7.72c-.78.78-.78 2.05 0 2.83L4 21.41c.39.39.9.59 1.41.59.51 0 1.02-.2 1.41-.59l7.78-7.78 2.81-2.81c.8-.78.8-2.07 0-2.86zM5.41 20L4 18.59l7.72-7.72 1.47 1.35L5.41 20z\"/>\n",
              "  </svg>\n",
              "      </button>\n",
              "      \n",
              "  <style>\n",
              "    .colab-df-container {\n",
              "      display:flex;\n",
              "      flex-wrap:wrap;\n",
              "      gap: 12px;\n",
              "    }\n",
              "\n",
              "    .colab-df-convert {\n",
              "      background-color: #E8F0FE;\n",
              "      border: none;\n",
              "      border-radius: 50%;\n",
              "      cursor: pointer;\n",
              "      display: none;\n",
              "      fill: #1967D2;\n",
              "      height: 32px;\n",
              "      padding: 0 0 0 0;\n",
              "      width: 32px;\n",
              "    }\n",
              "\n",
              "    .colab-df-convert:hover {\n",
              "      background-color: #E2EBFA;\n",
              "      box-shadow: 0px 1px 2px rgba(60, 64, 67, 0.3), 0px 1px 3px 1px rgba(60, 64, 67, 0.15);\n",
              "      fill: #174EA6;\n",
              "    }\n",
              "\n",
              "    [theme=dark] .colab-df-convert {\n",
              "      background-color: #3B4455;\n",
              "      fill: #D2E3FC;\n",
              "    }\n",
              "\n",
              "    [theme=dark] .colab-df-convert:hover {\n",
              "      background-color: #434B5C;\n",
              "      box-shadow: 0px 1px 3px 1px rgba(0, 0, 0, 0.15);\n",
              "      filter: drop-shadow(0px 1px 2px rgba(0, 0, 0, 0.3));\n",
              "      fill: #FFFFFF;\n",
              "    }\n",
              "  </style>\n",
              "\n",
              "      <script>\n",
              "        const buttonEl =\n",
              "          document.querySelector('#df-f2b35b9e-b2ff-4880-90fd-3847eb963cc9 button.colab-df-convert');\n",
              "        buttonEl.style.display =\n",
              "          google.colab.kernel.accessAllowed ? 'block' : 'none';\n",
              "\n",
              "        async function convertToInteractive(key) {\n",
              "          const element = document.querySelector('#df-f2b35b9e-b2ff-4880-90fd-3847eb963cc9');\n",
              "          const dataTable =\n",
              "            await google.colab.kernel.invokeFunction('convertToInteractive',\n",
              "                                                     [key], {});\n",
              "          if (!dataTable) return;\n",
              "\n",
              "          const docLinkHtml = 'Like what you see? Visit the ' +\n",
              "            '<a target=\"_blank\" href=https://colab.research.google.com/notebooks/data_table.ipynb>data table notebook</a>'\n",
              "            + ' to learn more about interactive tables.';\n",
              "          element.innerHTML = '';\n",
              "          dataTable['output_type'] = 'display_data';\n",
              "          await google.colab.output.renderOutput(dataTable, element);\n",
              "          const docLink = document.createElement('div');\n",
              "          docLink.innerHTML = docLinkHtml;\n",
              "          element.appendChild(docLink);\n",
              "        }\n",
              "      </script>\n",
              "    </div>\n",
              "  </div>\n",
              "  "
            ]
          },
          "metadata": {},
          "execution_count": 30
        }
      ],
      "source": [
        "target_count['count in %']=target_count['values']/len(data)*100\n",
        "target_count"
      ]
    },
    {
      "cell_type": "markdown",
      "metadata": {
        "id": "g2fO8TaEKDWi"
      },
      "source": [
        "70% of the target class data are not belonged to the class 'not defaulted' (class 0) and only 22% of the target data are belonged to 'defaulted' (class 1). In this case, this is an imbalanced target dataset. In data preparation / preprocessing part, we will need to resample them to make it more balanced. "
      ]
    },
    {
      "cell_type": "markdown",
      "metadata": {
        "id": "T9EjUiXbKmI2"
      },
      "source": [
        "### II) Credit limit (Limit balance)"
      ]
    },
    {
      "cell_type": "markdown",
      "source": [
        "Column name \"LIMIT_BAL\" represents the Amount of the given credit in (NT dollar): it includes both the individual consumer credit and his/her family (supplementary) credit."
      ],
      "metadata": {
        "id": "qVit_ujqftgR"
      }
    },
    {
      "cell_type": "code",
      "execution_count": null,
      "metadata": {
        "colab": {
          "base_uri": "https://localhost:8080/",
          "height": 405
        },
        "id": "K2bnHts4JVWq",
        "outputId": "6c56a255-0683-4b70-d371-e593c1e921c2"
      },
      "outputs": [
        {
          "output_type": "display_data",
          "data": {
            "text/plain": [
              "<Figure size 1440x432 with 1 Axes>"
            ],
            "image/png": "[encoded data removed]"
          },
          "metadata": {
            "needs_background": "light"
          }
        }
      ],
      "source": [
        "class_0=data[data['default payment next month']==0]['LIMIT_BAL']\n",
        "class_1=data[data['default payment next month']==1]['LIMIT_BAL']\n",
        "\n",
        "plt.figure(figsize = (20,6))\n",
        "plt.title('Default amount of limit balance distribution in respect to credit limit)')\n",
        "sns.set_color_codes(\"pastel\")\n",
        "sns.distplot(class_1,kde=True, color=\"red\",label=\"Defaulted\")\n",
        "sns.distplot(class_0,kde=True,color=\"green\",label=\"Not defaulted\")\n",
        "plt.legend()\n",
        "plt.show()"
      ]
    },
    {
      "cell_type": "markdown",
      "source": [
        "In the graph above, we can see that the majority of the defaulted account has the limit balance from 0.0 to 0.2 in millions and those one in green are the one not defaulted and they are distributed evenly.\n"
      ],
      "metadata": {
        "id": "-X4wbYt8fI6t"
      }
    },
    {
      "cell_type": "markdown",
      "metadata": {
        "id": "mAGkcKiZPUC4"
      },
      "source": [
        "### III) Sex vs Default"
      ]
    },
    {
      "cell_type": "markdown",
      "source": [
        "Sex Column: Gender (1 = male; 2 = female)."
      ],
      "metadata": {
        "id": "ShjzN0WWhJ77"
      }
    },
    {
      "cell_type": "code",
      "execution_count": null,
      "metadata": {
        "colab": {
          "base_uri": "https://localhost:8080/",
          "height": 373
        },
        "id": "e8lj7DYDQIzY",
        "outputId": "b582fccc-851b-4b3b-8d61-d392ee3d4794"
      },
      "outputs": [
        {
          "output_type": "display_data",
          "data": {
            "text/plain": [
              "<Figure size 576x432 with 1 Axes>"
            ],
            "image/png": "[encoded data removed]"
          },
          "metadata": {}
        }
      ],
      "source": [
        "plt.figure(figsize = (8,6))\n",
        "pd.value_counts(data['SEX']).plot(kind='pie', y='SEX', autopct='%1.0f%%')\n",
        "plt.title('Pie chart for the whole population with all target classes')\n",
        "plt.show()"
      ]
    },
    {
      "cell_type": "markdown",
      "source": [
        "In this dataset, 60% of the accounts are belonged to female and 40% are belonged to male. It might cause an imbalanced dataset in term of gender class."
      ],
      "metadata": {
        "id": "If9Bu9VhjFRa"
      }
    },
    {
      "cell_type": "code",
      "execution_count": null,
      "metadata": {
        "colab": {
          "base_uri": "https://localhost:8080/",
          "height": 309
        },
        "id": "rPGuNBOBQY-M",
        "outputId": "5c6e1245-a5c2-49c3-d6bd-19ed08669107"
      },
      "outputs": [
        {
          "output_type": "display_data",
          "data": {
            "text/plain": [
              "<Figure size 576x432 with 0 Axes>"
            ]
          },
          "metadata": {}
        },
        {
          "output_type": "display_data",
          "data": {
            "text/plain": [
              "<Figure size 432x288 with 1 Axes>"
            ],
            "image/png": "[encoded data removed]"
          },
          "metadata": {
            "needs_background": "light"
          }
        }
      ],
      "source": [
        "plt.figure(figsize = (8,6))\n",
        "val_counts = data.groupby('SEX')['default payment next month'].apply(lambda group: group.value_counts()/len(group)*100)\n",
        "val_counts[val_counts.index \\\n",
        "           .get_level_values(1) == 1] \\\n",
        "           .reset_index(level=1) \\\n",
        "           .drop(columns='level_1') \\\n",
        "           .plot(kind='bar', ylabel='default %')\n",
        "plt.title(\"Defaulted Class distribution by gender\")\n",
        "plt.show()\n"
      ]
    },
    {
      "cell_type": "markdown",
      "source": [
        "20% of the population are men and defaulted.\n",
        "\n",
        "25% of the population are women and defaulted."
      ],
      "metadata": {
        "id": "CLijdsPrkms2"
      }
    },
    {
      "cell_type": "code",
      "source": [
        "val_counts = data.groupby('SEX')['default payment next month'].apply(lambda group: group.value_counts()/len(group)*100)\n",
        "pd.DataFrame(val_counts)"
      ],
      "metadata": {
        "colab": {
          "base_uri": "https://localhost:8080/",
          "height": 206
        },
        "id": "YLyg9VmWlKYP",
        "outputId": "940cea84-e69e-4354-c102-4c31bd1d1ac3"
      },
      "execution_count": null,
      "outputs": [
        {
          "output_type": "execute_result",
          "data": {
            "text/plain": [
              "       default payment next month\n",
              "SEX                              \n",
              "1   0                   75.832773\n",
              "    1                   24.167227\n",
              "2   0                   79.223719\n",
              "    1                   20.776281"
            ],
            "text/html": [
              "\n",
              "  <div id=\"df-0ca90800-75a1-4aa1-932e-e0ef4f6f6631\">\n",
              "    <div class=\"colab-df-container\">\n",
              "      <div>\n",
              "<style scoped>\n",
              "    .dataframe tbody tr th:only-of-type {\n",
              "        vertical-align: middle;\n",
              "    }\n",
              "\n",
              "    .dataframe tbody tr th {\n",
              "        vertical-align: top;\n",
              "    }\n",
              "\n",
              "    .dataframe thead th {\n",
              "        text-align: right;\n",
              "    }\n",
              "</style>\n",
              "<table border=\"1\" class=\"dataframe\">\n",
              "  <thead>\n",
              "    <tr style=\"text-align: right;\">\n",
              "      <th></th>\n",
              "      <th></th>\n",
              "      <th>default payment next month</th>\n",
              "    </tr>\n",
              "    <tr>\n",
              "      <th>SEX</th>\n",
              "      <th></th>\n",
              "      <th></th>\n",
              "    </tr>\n",
              "  </thead>\n",
              "  <tbody>\n",
              "    <tr>\n",
              "      <th rowspan=\"2\" valign=\"top\">1</th>\n",
              "      <th>0</th>\n",
              "      <td>75.832773</td>\n",
              "    </tr>\n",
              "    <tr>\n",
              "      <th>1</th>\n",
              "      <td>24.167227</td>\n",
              "    </tr>\n",
              "    <tr>\n",
              "      <th rowspan=\"2\" valign=\"top\">2</th>\n",
              "      <th>0</th>\n",
              "      <td>79.223719</td>\n",
              "    </tr>\n",
              "    <tr>\n",
              "      <th>1</th>\n",
              "      <td>20.776281</td>\n",
              "    </tr>\n",
              "  </tbody>\n",
              "</table>\n",
              "</div>\n",
              "      <button class=\"colab-df-convert\" onclick=\"convertToInteractive('df-0ca90800-75a1-4aa1-932e-e0ef4f6f6631')\"\n",
              "              title=\"Convert this dataframe to an interactive table.\"\n",
              "              style=\"display:none;\">\n",
              "        \n",
              "  <svg xmlns=\"http://www.w3.org/2000/svg\" height=\"24px\"viewBox=\"0 0 24 24\"\n",
              "       width=\"24px\">\n",
              "    <path d=\"M0 0h24v24H0V0z\" fill=\"none\"/>\n",
              "    <path d=\"M18.56 5.44l.94 2.06.94-2.06 2.06-.94-2.06-.94-.94-2.06-.94 2.06-2.06.94zm-11 1L8.5 8.5l.94-2.06 2.06-.94-2.06-.94L8.5 2.5l-.94 2.06-2.06.94zm10 10l.94 2.06.94-2.06 2.06-.94-2.06-.94-.94-2.06-.94 2.06-2.06.94z\"/><path d=\"M17.41 7.96l-1.37-1.37c-.4-.4-.92-.59-1.43-.59-.52 0-1.04.2-1.43.59L10.3 9.45l-7.72 7.72c-.78.78-.78 2.05 0 2.83L4 21.41c.39.39.9.59 1.41.59.51 0 1.02-.2 1.41-.59l7.78-7.78 2.81-2.81c.8-.78.8-2.07 0-2.86zM5.41 20L4 18.59l7.72-7.72 1.47 1.35L5.41 20z\"/>\n",
              "  </svg>\n",
              "      </button>\n",
              "      \n",
              "  <style>\n",
              "    .colab-df-container {\n",
              "      display:flex;\n",
              "      flex-wrap:wrap;\n",
              "      gap: 12px;\n",
              "    }\n",
              "\n",
              "    .colab-df-convert {\n",
              "      background-color: #E8F0FE;\n",
              "      border: none;\n",
              "      border-radius: 50%;\n",
              "      cursor: pointer;\n",
              "      display: none;\n",
              "      fill: #1967D2;\n",
              "      height: 32px;\n",
              "      padding: 0 0 0 0;\n",
              "      width: 32px;\n",
              "    }\n",
              "\n",
              "    .colab-df-convert:hover {\n",
              "      background-color: #E2EBFA;\n",
              "      box-shadow: 0px 1px 2px rgba(60, 64, 67, 0.3), 0px 1px 3px 1px rgba(60, 64, 67, 0.15);\n",
              "      fill: #174EA6;\n",
              "    }\n",
              "\n",
              "    [theme=dark] .colab-df-convert {\n",
              "      background-color: #3B4455;\n",
              "      fill: #D2E3FC;\n",
              "    }\n",
              "\n",
              "    [theme=dark] .colab-df-convert:hover {\n",
              "      background-color: #434B5C;\n",
              "      box-shadow: 0px 1px 3px 1px rgba(0, 0, 0, 0.15);\n",
              "      filter: drop-shadow(0px 1px 2px rgba(0, 0, 0, 0.3));\n",
              "      fill: #FFFFFF;\n",
              "    }\n",
              "  </style>\n",
              "\n",
              "      <script>\n",
              "        const buttonEl =\n",
              "          document.querySelector('#df-0ca90800-75a1-4aa1-932e-e0ef4f6f6631 button.colab-df-convert');\n",
              "        buttonEl.style.display =\n",
              "          google.colab.kernel.accessAllowed ? 'block' : 'none';\n",
              "\n",
              "        async function convertToInteractive(key) {\n",
              "          const element = document.querySelector('#df-0ca90800-75a1-4aa1-932e-e0ef4f6f6631');\n",
              "          const dataTable =\n",
              "            await google.colab.kernel.invokeFunction('convertToInteractive',\n",
              "                                                     [key], {});\n",
              "          if (!dataTable) return;\n",
              "\n",
              "          const docLinkHtml = 'Like what you see? Visit the ' +\n",
              "            '<a target=\"_blank\" href=https://colab.research.google.com/notebooks/data_table.ipynb>data table notebook</a>'\n",
              "            + ' to learn more about interactive tables.';\n",
              "          element.innerHTML = '';\n",
              "          dataTable['output_type'] = 'display_data';\n",
              "          await google.colab.output.renderOutput(dataTable, element);\n",
              "          const docLink = document.createElement('div');\n",
              "          docLink.innerHTML = docLinkHtml;\n",
              "          element.appendChild(docLink);\n",
              "        }\n",
              "      </script>\n",
              "    </div>\n",
              "  </div>\n",
              "  "
            ]
          },
          "metadata": {},
          "execution_count": 34
        }
      ]
    },
    {
      "cell_type": "markdown",
      "source": [
        "The table is another way to show the difference of default rate between men and women"
      ],
      "metadata": {
        "id": "kO3XjmTfk_SD"
      }
    },
    {
      "cell_type": "markdown",
      "metadata": {
        "id": "PlXPq9vQSEMe"
      },
      "source": [
        "### IV) Education"
      ]
    },
    {
      "cell_type": "markdown",
      "metadata": {
        "id": "F4jKEUAwSQSC"
      },
      "source": [
        "Education (1 = graduate school; 2 = university; 3 = high school; 4 = others)"
      ]
    },
    {
      "cell_type": "code",
      "execution_count": null,
      "metadata": {
        "colab": {
          "base_uri": "https://localhost:8080/",
          "height": 373
        },
        "id": "qRN2NvFOSNnC",
        "outputId": "a1210e02-83a6-4c5d-cf18-be4e594460af"
      },
      "outputs": [
        {
          "output_type": "display_data",
          "data": {
            "text/plain": [
              "<Figure size 576x432 with 1 Axes>"
            ],
            "image/png": "[encoded data removed]"
          },
          "metadata": {}
        }
      ],
      "source": [
        "plt.figure(figsize = (8,6))\n",
        "pd.value_counts(data['EDUCATION']).plot(kind='pie',y='EDUCATION', autopct='%1.0f%%')\n",
        "plt.title('Pie chart for the whole population with all target classes')\n",
        "plt.show()"
      ]
    },
    {
      "cell_type": "code",
      "execution_count": null,
      "metadata": {
        "colab": {
          "base_uri": "https://localhost:8080/",
          "height": 309
        },
        "id": "HRbhzOSBPPlh",
        "outputId": "efbb7dc7-24d9-4fbb-c7ca-82bdd1ef0c42"
      },
      "outputs": [
        {
          "output_type": "display_data",
          "data": {
            "text/plain": [
              "<Figure size 576x432 with 0 Axes>"
            ]
          },
          "metadata": {}
        },
        {
          "output_type": "display_data",
          "data": {
            "text/plain": [
              "<Figure size 432x288 with 1 Axes>"
            ],
            "image/png": "[encoded data removed]"
          },
          "metadata": {
            "needs_background": "light"
          }
        }
      ],
      "source": [
        "plt.figure(figsize = (8,6))\n",
        "val_counts = data.groupby('EDUCATION')['default payment next month'].apply(lambda group: group.value_counts() / len(group) * 100)\n",
        "val_counts[val_counts.index \\\n",
        "           .get_level_values(1) == 1] \\\n",
        "           .reset_index(level=1) \\\n",
        "           .drop(columns='level_1') \\\n",
        "           .plot(kind='bar', ylabel='default %')\n",
        "plt.title('Defaulted class distribution by Education')\n",
        "\n",
        "plt.show()"
      ]
    },
    {
      "cell_type": "markdown",
      "source": [
        "Majority of the defaulted class are in education 2 and 3 but education class 4 (other) has the lowest default rate. The second lowest is education 1 - graduate school education."
      ],
      "metadata": {
        "id": "ojtCKrDfmZow"
      }
    },
    {
      "cell_type": "markdown",
      "metadata": {
        "id": "9eyZBTTGsiCp"
      },
      "source": [
        "## V) AGE"
      ]
    },
    {
      "cell_type": "code",
      "execution_count": null,
      "metadata": {
        "colab": {
          "base_uri": "https://localhost:8080/",
          "height": 309
        },
        "id": "SucE7lxRskzg",
        "outputId": "b11c49ff-ab45-4315-fd53-bc99960ec228"
      },
      "outputs": [
        {
          "output_type": "display_data",
          "data": {
            "text/plain": [
              "<Figure size 432x288 with 1 Axes>"
            ],
            "image/png": "[encoded data removed]"
          },
          "metadata": {
            "needs_background": "light"
          }
        }
      ],
      "source": [
        "bin_data=data.copy()\n",
        "age_bins = [data['AGE'].min(), 25,30,35,40,45,50,55,60,65,70,75,data['AGE'].max()]\n",
        "bin_data['AGE']=pd.cut(data['AGE'], age_bins)\n",
        "\n",
        "val_counts = bin_data.groupby('AGE')['default payment next month'].apply(lambda group: group.value_counts()/ len(group)*100)\n",
        "\n",
        "val_counts[val_counts.index \\\n",
        "           .get_level_values(1) == 1] \\\n",
        "           .reset_index(level=1) \\\n",
        "           .drop(columns='level_1') \\\n",
        "           .plot(kind='bar', ylabel='default %')\n",
        "\n",
        "plt.show()\n"
      ]
    },
    {
      "cell_type": "markdown",
      "metadata": {
        "id": "hL84XX_xyAVH"
      },
      "source": [
        "### VI) Payment "
      ]
    },
    {
      "cell_type": "markdown",
      "metadata": {
        "id": "6LfYoW1OW_-_"
      },
      "source": [
        "### Frequency"
      ]
    },
    {
      "cell_type": "markdown",
      "metadata": {
        "id": "mXCcWFDWyhIV"
      },
      "source": [
        "#### Number of paid on time Vs Default rate\n",
        "\n",
        "Add a column into dataset called \"Number_of_paid_on_time\""
      ]
    },
    {
      "cell_type": "code",
      "execution_count": null,
      "metadata": {
        "id": "YPufEhmvzFsS"
      },
      "outputs": [],
      "source": [
        "# Number of paid on time per individual\n",
        "months=['SEP','AUG','JUL','JUN','MAY','APR']\n",
        "pay_cols = ['PAY_{}'.format(x) for x in months]\n",
        "pay_cols = data[pay_cols]\n",
        "for PAY_col in pay_cols:\n",
        "  pay_cols[PAY_col]=pay_cols[PAY_col].apply(lambda x:1 if x in [-2,-1,0] else 0)\n",
        "data['Number_of_paid_on_time']=pay_cols.sum(axis=1)\n",
        "numerical_features.append('Number_of_paid_on_time')"
      ]
    },
    {
      "cell_type": "code",
      "execution_count": null,
      "metadata": {
        "colab": {
          "base_uri": "https://localhost:8080/",
          "height": 294
        },
        "id": "Nohr7uiOyyel",
        "outputId": "b035c85b-9d2e-44c8-9741-6926187fa69c"
      },
      "outputs": [
        {
          "output_type": "execute_result",
          "data": {
            "text/plain": [
              "<matplotlib.axes._subplots.AxesSubplot at 0x7fbc00f1ef90>"
            ]
          },
          "metadata": {},
          "execution_count": 39
        },
        {
          "output_type": "display_data",
          "data": {
            "text/plain": [
              "<Figure size 432x288 with 1 Axes>"
            ],
            "image/png": "[encoded data removed]"
          },
          "metadata": {
            "needs_background": "light"
          }
        }
      ],
      "source": [
        "val_counts = data.groupby('Number_of_paid_on_time')['default payment next month'].apply(lambda group: group.value_counts() / len(group) * 100)\n",
        "val_counts[val_counts.index \\\n",
        "           .get_level_values(1) == 1] \\\n",
        "           .reset_index(level=1) \\\n",
        "           .drop(columns='level_1') \\\n",
        "           .plot(kind='bar', ylabel='default %')"
      ]
    },
    {
      "cell_type": "markdown",
      "metadata": {
        "id": "wHJCSoUwV-BN"
      },
      "source": [
        "#### Number of times the payment has been delayed - Frequency\n",
        "\n",
        "Add a column for number of time payment delayed"
      ]
    },
    {
      "cell_type": "code",
      "execution_count": null,
      "metadata": {
        "id": "GdShnRI7WLEl"
      },
      "outputs": [],
      "source": [
        "# Number of time the payment has been delayed per individual\n",
        "months=['SEP','AUG','JUL','JUN','MAY','APR']\n",
        "pay_cols = ['PAY_{}'.format(x) for x in months]\n",
        "pay_cols = data[pay_cols]\n",
        "for PAY_col in pay_cols:\n",
        "  pay_cols[PAY_col]=pay_cols[PAY_col].apply(lambda x:1 if x not in [-2,-1,0] else 0)\n",
        "data['Number_of_times_delayed']=pay_cols.sum(axis=1)\n",
        "numerical_features.append('Number_of_times_delayed')"
      ]
    },
    {
      "cell_type": "code",
      "execution_count": null,
      "metadata": {
        "colab": {
          "base_uri": "https://localhost:8080/",
          "height": 294
        },
        "id": "DhQDzBQ7WLA-",
        "outputId": "6a27efdf-fca8-4653-996e-4b45570f7d84"
      },
      "outputs": [
        {
          "output_type": "execute_result",
          "data": {
            "text/plain": [
              "<matplotlib.axes._subplots.AxesSubplot at 0x7fbc00dff750>"
            ]
          },
          "metadata": {},
          "execution_count": 41
        },
        {
          "output_type": "display_data",
          "data": {
            "text/plain": [
              "<Figure size 432x288 with 1 Axes>"
            ],
            "image/png": "[encoded data removed]"
          },
          "metadata": {
            "needs_background": "light"
          }
        }
      ],
      "source": [
        "val_counts = data.groupby('Number_of_times_delayed')['default payment next month'].apply(lambda group: group.value_counts() / len(group) * 100)\n",
        "val_counts[val_counts.index \\\n",
        "           .get_level_values(1) == 1] \\\n",
        "           .reset_index(level=1) \\\n",
        "           .drop(columns='level_1') \\\n",
        "           .plot(kind='bar', ylabel='default %')"
      ]
    },
    {
      "cell_type": "markdown",
      "metadata": {
        "id": "m3M0W48oXD-w"
      },
      "source": [
        "### Recency"
      ]
    },
    {
      "cell_type": "markdown",
      "metadata": {
        "id": "JYr_DLmeXP79"
      },
      "source": [
        "#### Most recent delayed payment\n",
        "\n",
        "Add a column for the recency "
      ]
    },
    {
      "cell_type": "code",
      "execution_count": null,
      "metadata": {
        "id": "6_x5K1BLXZGa"
      },
      "outputs": [],
      "source": [
        "months=['SEP','AUG','JUL','JUN','MAY','APR']\n",
        "reversed_months=reversed(months)\n",
        "pay_cols = ['PAY_{}'.format(x) for x in reversed_months]\n",
        "pay_cols = data[pay_cols]\n",
        "most_recent_index=[]\n",
        "\n",
        "for i in range(len(pay_cols)):\n",
        "  recent_index=np.argwhere(pay_cols.iloc[i,:].values >0)\n",
        "\n",
        "  if  recent_index.size==0:\n",
        "    most_recent_index.append(0)\n",
        "  else:\n",
        "    most_recent_index.append(recent_index.min()+1)\n",
        "  \n"
      ]
    },
    {
      "cell_type": "code",
      "execution_count": null,
      "metadata": {
        "id": "a8zWSPATXZDK"
      },
      "outputs": [],
      "source": [
        "data['most_recent_month_delayed']=most_recent_index\n",
        "numerical_features.append('most_recent_month_delayed')"
      ]
    },
    {
      "cell_type": "markdown",
      "source": [
        "### V) Correlation Test"
      ],
      "metadata": {
        "id": "VDaH2moC72M3"
      }
    },
    {
      "cell_type": "code",
      "source": [
        "plt.figure(figsize = (25,6))\n",
        "\n",
        "corr = data.corr()\n",
        "sns.heatmap(corr, cmap=\"Purples\", annot=True)\n",
        "plt.show()"
      ],
      "metadata": {
        "colab": {
          "base_uri": "https://localhost:8080/",
          "height": 512
        },
        "id": "noURpoU58Bti",
        "outputId": "95ea29a6-f437-4de2-8741-303b8cc834a5"
      },
      "execution_count": null,
      "outputs": [
        {
          "output_type": "display_data",
          "data": {
            "text/plain": [
              "<Figure size 1800x432 with 2 Axes>"
            ],
            "image/png": "[encoded data removed]"
          },
          "metadata": {
            "needs_background": "light"
          }
        }
      ]
    },
    {
      "cell_type": "markdown",
      "source": [
        "In this correlation study, the Payment columns and LIMIT_BAL are highly correlated with the target."
      ],
      "metadata": {
        "id": "xDgJRiQyiTPl"
      }
    },
    {
      "cell_type": "markdown",
      "metadata": {
        "id": "F3MLF3dYU5Hl"
      },
      "source": [
        "## C) Data Preprocessing / Preparation"
      ]
    },
    {
      "cell_type": "markdown",
      "metadata": {
        "id": "fQTJfrZM-2Bc"
      },
      "source": [
        "### I) Set target value , features values\n"
      ]
    },
    {
      "cell_type": "code",
      "execution_count": null,
      "metadata": {
        "id": "KaEVNWXw-2UL"
      },
      "outputs": [],
      "source": [
        "y=data['default payment next month']\n",
        "X=data.drop(columns=['default payment next month'],axis=1)\n"
      ]
    },
    {
      "cell_type": "markdown",
      "metadata": {
        "id": "SAy4f0Bb3AJp"
      },
      "source": [
        "### II) Resample data due to imbalance dataset\n",
        "\n",
        "In this dataset, the class not default (0) is significantly outnumbering the class default (1). It might cause the bias situation in the model. \n",
        "\n",
        "The technique that we can use is to either undersample class 0 or oversample class 1.\n",
        "\n",
        "Oversample technique is used in this case."
      ]
    },
    {
      "cell_type": "code",
      "execution_count": null,
      "metadata": {
        "colab": {
          "base_uri": "https://localhost:8080/",
          "height": 278
        },
        "id": "OxVODqax4EZa",
        "outputId": "c4e9f7d1-5e1a-467f-ccea-152832a79cc2"
      },
      "outputs": [
        {
          "output_type": "display_data",
          "data": {
            "text/plain": [
              "<Figure size 432x288 with 1 Axes>"
            ],
            "image/png": "[encoded data removed]"
          },
          "metadata": {
            "needs_background": "light"
          }
        }
      ],
      "source": [
        "pd.value_counts(y).plot(kind='bar')\n",
        "plt.title('Distribution of target class before oversampling')\n",
        "plt.show()"
      ]
    },
    {
      "cell_type": "code",
      "execution_count": null,
      "metadata": {
        "id": "Xi5iD0Of3f1P"
      },
      "outputs": [],
      "source": [
        "sm = SMOTE(random_state=42)\n",
        "X_new, y_new = sm.fit_resample(X, y)"
      ]
    },
    {
      "cell_type": "code",
      "execution_count": null,
      "metadata": {
        "colab": {
          "base_uri": "https://localhost:8080/",
          "height": 278
        },
        "id": "wWOtgy3A3l1g",
        "outputId": "293bd37b-739b-45db-b2b6-9f1ca7b4a7a1"
      },
      "outputs": [
        {
          "output_type": "display_data",
          "data": {
            "text/plain": [
              "<Figure size 432x288 with 1 Axes>"
            ],
            "image/png": "[encoded data removed]"
          },
          "metadata": {
            "needs_background": "light"
          }
        }
      ],
      "source": [
        "pd.value_counts(y_new).plot(kind='bar')\n",
        "plt.title('Distribution graph after oversampling')\n",
        "plt.show()"
      ]
    },
    {
      "cell_type": "markdown",
      "metadata": {
        "id": "OKH0S8Ao-U5h"
      },
      "source": [
        "### III) Data split - Train , test set"
      ]
    },
    {
      "cell_type": "code",
      "execution_count": null,
      "metadata": {
        "id": "8XbVX8mX-Ua0"
      },
      "outputs": [],
      "source": [
        "X_train, X_test, y_train, y_test = train_test_split(X_new,y_new,test_size=0.2, random_state=5)"
      ]
    },
    {
      "cell_type": "markdown",
      "metadata": {
        "id": "qd0NhTk-8Z8U"
      },
      "source": [
        "<!-- ### V) Scale the numerical columns by using min_max scaler for both X_train, X_test -->"
      ]
    },
    {
      "cell_type": "markdown",
      "source": [
        "### IV) Scale Data"
      ],
      "metadata": {
        "id": "5j4ch4nTrC7m"
      }
    },
    {
      "cell_type": "code",
      "execution_count": null,
      "metadata": {
        "colab": {
          "base_uri": "https://localhost:8080/"
        },
        "id": "D_PHTyc24WqO",
        "outputId": "bd31c542-eafa-4c38-f4d5-03a553de9dd5"
      },
      "outputs": [
        {
          "output_type": "execute_result",
          "data": {
            "text/plain": [
              "['LIMIT_BAL',\n",
              " 'AGE',\n",
              " 'BILL_AMT_SEP',\n",
              " 'BILL_AMT_AUG',\n",
              " 'BILL_AMT_JUL',\n",
              " 'BILL_AMT_JUN',\n",
              " 'BILL_AMT_MAY',\n",
              " 'BILL_AMT_APR',\n",
              " 'PAY_AMT_SEP',\n",
              " 'PAY_AMT_AUG',\n",
              " 'PAY_AMT_JUL',\n",
              " 'PAY_AMT_JUN',\n",
              " 'PAY_AMT_MAY',\n",
              " 'PAY_AMT_APR',\n",
              " 'Number_of_paid_on_time',\n",
              " 'Number_of_times_delayed',\n",
              " 'most_recent_month_delayed']"
            ]
          },
          "metadata": {},
          "execution_count": 50
        }
      ],
      "source": [
        "numerical_features"
      ]
    },
    {
      "cell_type": "code",
      "execution_count": null,
      "metadata": {
        "id": "72GvPlin4Wm9"
      },
      "outputs": [],
      "source": [
        "numerical_convert=[\n",
        "    'LIMIT_BAL','AGE'\n",
        "    ]"
      ]
    },
    {
      "cell_type": "code",
      "execution_count": null,
      "metadata": {
        "id": "30wW7AVZaIQM"
      },
      "outputs": [],
      "source": [
        "\n",
        "MM = MinMaxScaler()\n",
        "X_train[numerical_convert]=MM.fit_transform(X_train[numerical_convert])\n",
        "X_test[numerical_convert]=MM.transform(X_test[numerical_convert])"
      ]
    },
    {
      "cell_type": "code",
      "execution_count": null,
      "metadata": {
        "colab": {
          "base_uri": "https://localhost:8080/",
          "height": 236
        },
        "id": "p6ML5BujB7CH",
        "outputId": "cabf2f3e-9f1f-46cd-e856-14a6b56b07c5"
      },
      "outputs": [
        {
          "output_type": "execute_result",
          "data": {
            "text/plain": [
              "       LIMIT_BAL  SEX  EDUCATION  MARRIAGE       AGE  PAY_SEP  PAY_AUG  \\\n",
              "7186    0.232323    2          1         1  0.241379       -1       -1   \n",
              "33581   0.021809    2          2         1  0.517241        2        2   \n",
              "17334   0.494949    2          1         1  0.275862        1       -1   \n",
              "8144    0.040404    1          1         2  0.034483       -1       -1   \n",
              "31646   0.020202    1          2         2  0.086207        5        4   \n",
              "\n",
              "       PAY_JUL  PAY_JUN  PAY_MAY  ...  BILL_AMT_APR  PAY_AMT_SEP  PAY_AMT_AUG  \\\n",
              "7186        -1       -1       -1  ...         13227        10420         1150   \n",
              "33581        2        2        2  ...         16827         1247         1584   \n",
              "17334       -1       -1       -1  ...         33348         2529         2971   \n",
              "8144         2        2       -1  ...         19211         3600         1400   \n",
              "31646        3        2        1  ...         29898            0            7   \n",
              "\n",
              "       PAY_AMT_JUL  PAY_AMT_JUN  PAY_AMT_MAY  PAY_AMT_APR  \\\n",
              "7186          5928         3619        13227         7764   \n",
              "33581          111         1440            0          843   \n",
              "17334          200        38144            0         8479   \n",
              "8144             0         1200         2000         1000   \n",
              "31646            0           30         1017          970   \n",
              "\n",
              "       Number_of_paid_on_time  Number_of_times_delayed  \\\n",
              "7186                        6                        0   \n",
              "33581                       0                        6   \n",
              "17334                       5                        1   \n",
              "8144                        4                        2   \n",
              "31646                       1                        4   \n",
              "\n",
              "       most_recent_month_delayed  \n",
              "7186                           0  \n",
              "33581                          1  \n",
              "17334                          6  \n",
              "8144                           3  \n",
              "31646                          2  \n",
              "\n",
              "[5 rows x 26 columns]"
            ],
            "text/html": [
              "\n",
              "  <div id=\"df-d0cd9548-8abb-4ddf-b087-fe43c15fa0b0\">\n",
              "    <div class=\"colab-df-container\">\n",
              "      <div>\n",
              "<style scoped>\n",
              "    .dataframe tbody tr th:only-of-type {\n",
              "        vertical-align: middle;\n",
              "    }\n",
              "\n",
              "    .dataframe tbody tr th {\n",
              "        vertical-align: top;\n",
              "    }\n",
              "\n",
              "    .dataframe thead th {\n",
              "        text-align: right;\n",
              "    }\n",
              "</style>\n",
              "<table border=\"1\" class=\"dataframe\">\n",
              "  <thead>\n",
              "    <tr style=\"text-align: right;\">\n",
              "      <th></th>\n",
              "      <th>LIMIT_BAL</th>\n",
              "      <th>SEX</th>\n",
              "      <th>EDUCATION</th>\n",
              "      <th>MARRIAGE</th>\n",
              "      <th>AGE</th>\n",
              "      <th>PAY_SEP</th>\n",
              "      <th>PAY_AUG</th>\n",
              "      <th>PAY_JUL</th>\n",
              "      <th>PAY_JUN</th>\n",
              "      <th>PAY_MAY</th>\n",
              "      <th>...</th>\n",
              "      <th>BILL_AMT_APR</th>\n",
              "      <th>PAY_AMT_SEP</th>\n",
              "      <th>PAY_AMT_AUG</th>\n",
              "      <th>PAY_AMT_JUL</th>\n",
              "      <th>PAY_AMT_JUN</th>\n",
              "      <th>PAY_AMT_MAY</th>\n",
              "      <th>PAY_AMT_APR</th>\n",
              "      <th>Number_of_paid_on_time</th>\n",
              "      <th>Number_of_times_delayed</th>\n",
              "      <th>most_recent_month_delayed</th>\n",
              "    </tr>\n",
              "  </thead>\n",
              "  <tbody>\n",
              "    <tr>\n",
              "      <th>7186</th>\n",
              "      <td>0.232323</td>\n",
              "      <td>2</td>\n",
              "      <td>1</td>\n",
              "      <td>1</td>\n",
              "      <td>0.241379</td>\n",
              "      <td>-1</td>\n",
              "      <td>-1</td>\n",
              "      <td>-1</td>\n",
              "      <td>-1</td>\n",
              "      <td>-1</td>\n",
              "      <td>...</td>\n",
              "      <td>13227</td>\n",
              "      <td>10420</td>\n",
              "      <td>1150</td>\n",
              "      <td>5928</td>\n",
              "      <td>3619</td>\n",
              "      <td>13227</td>\n",
              "      <td>7764</td>\n",
              "      <td>6</td>\n",
              "      <td>0</td>\n",
              "      <td>0</td>\n",
              "    </tr>\n",
              "    <tr>\n",
              "      <th>33581</th>\n",
              "      <td>0.021809</td>\n",
              "      <td>2</td>\n",
              "      <td>2</td>\n",
              "      <td>1</td>\n",
              "      <td>0.517241</td>\n",
              "      <td>2</td>\n",
              "      <td>2</td>\n",
              "      <td>2</td>\n",
              "      <td>2</td>\n",
              "      <td>2</td>\n",
              "      <td>...</td>\n",
              "      <td>16827</td>\n",
              "      <td>1247</td>\n",
              "      <td>1584</td>\n",
              "      <td>111</td>\n",
              "      <td>1440</td>\n",
              "      <td>0</td>\n",
              "      <td>843</td>\n",
              "      <td>0</td>\n",
              "      <td>6</td>\n",
              "      <td>1</td>\n",
              "    </tr>\n",
              "    <tr>\n",
              "      <th>17334</th>\n",
              "      <td>0.494949</td>\n",
              "      <td>2</td>\n",
              "      <td>1</td>\n",
              "      <td>1</td>\n",
              "      <td>0.275862</td>\n",
              "      <td>1</td>\n",
              "      <td>-1</td>\n",
              "      <td>-1</td>\n",
              "      <td>-1</td>\n",
              "      <td>-1</td>\n",
              "      <td>...</td>\n",
              "      <td>33348</td>\n",
              "      <td>2529</td>\n",
              "      <td>2971</td>\n",
              "      <td>200</td>\n",
              "      <td>38144</td>\n",
              "      <td>0</td>\n",
              "      <td>8479</td>\n",
              "      <td>5</td>\n",
              "      <td>1</td>\n",
              "      <td>6</td>\n",
              "    </tr>\n",
              "    <tr>\n",
              "      <th>8144</th>\n",
              "      <td>0.040404</td>\n",
              "      <td>1</td>\n",
              "      <td>1</td>\n",
              "      <td>2</td>\n",
              "      <td>0.034483</td>\n",
              "      <td>-1</td>\n",
              "      <td>-1</td>\n",
              "      <td>2</td>\n",
              "      <td>2</td>\n",
              "      <td>-1</td>\n",
              "      <td>...</td>\n",
              "      <td>19211</td>\n",
              "      <td>3600</td>\n",
              "      <td>1400</td>\n",
              "      <td>0</td>\n",
              "      <td>1200</td>\n",
              "      <td>2000</td>\n",
              "      <td>1000</td>\n",
              "      <td>4</td>\n",
              "      <td>2</td>\n",
              "      <td>3</td>\n",
              "    </tr>\n",
              "    <tr>\n",
              "      <th>31646</th>\n",
              "      <td>0.020202</td>\n",
              "      <td>1</td>\n",
              "      <td>2</td>\n",
              "      <td>2</td>\n",
              "      <td>0.086207</td>\n",
              "      <td>5</td>\n",
              "      <td>4</td>\n",
              "      <td>3</td>\n",
              "      <td>2</td>\n",
              "      <td>1</td>\n",
              "      <td>...</td>\n",
              "      <td>29898</td>\n",
              "      <td>0</td>\n",
              "      <td>7</td>\n",
              "      <td>0</td>\n",
              "      <td>30</td>\n",
              "      <td>1017</td>\n",
              "      <td>970</td>\n",
              "      <td>1</td>\n",
              "      <td>4</td>\n",
              "      <td>2</td>\n",
              "    </tr>\n",
              "  </tbody>\n",
              "</table>\n",
              "<p>5 rows × 26 columns</p>\n",
              "</div>\n",
              "      <button class=\"colab-df-convert\" onclick=\"convertToInteractive('df-d0cd9548-8abb-4ddf-b087-fe43c15fa0b0')\"\n",
              "              title=\"Convert this dataframe to an interactive table.\"\n",
              "              style=\"display:none;\">\n",
              "        \n",
              "  <svg xmlns=\"http://www.w3.org/2000/svg\" height=\"24px\"viewBox=\"0 0 24 24\"\n",
              "       width=\"24px\">\n",
              "    <path d=\"M0 0h24v24H0V0z\" fill=\"none\"/>\n",
              "    <path d=\"M18.56 5.44l.94 2.06.94-2.06 2.06-.94-2.06-.94-.94-2.06-.94 2.06-2.06.94zm-11 1L8.5 8.5l.94-2.06 2.06-.94-2.06-.94L8.5 2.5l-.94 2.06-2.06.94zm10 10l.94 2.06.94-2.06 2.06-.94-2.06-.94-.94-2.06-.94 2.06-2.06.94z\"/><path d=\"M17.41 7.96l-1.37-1.37c-.4-.4-.92-.59-1.43-.59-.52 0-1.04.2-1.43.59L10.3 9.45l-7.72 7.72c-.78.78-.78 2.05 0 2.83L4 21.41c.39.39.9.59 1.41.59.51 0 1.02-.2 1.41-.59l7.78-7.78 2.81-2.81c.8-.78.8-2.07 0-2.86zM5.41 20L4 18.59l7.72-7.72 1.47 1.35L5.41 20z\"/>\n",
              "  </svg>\n",
              "      </button>\n",
              "      \n",
              "  <style>\n",
              "    .colab-df-container {\n",
              "      display:flex;\n",
              "      flex-wrap:wrap;\n",
              "      gap: 12px;\n",
              "    }\n",
              "\n",
              "    .colab-df-convert {\n",
              "      background-color: #E8F0FE;\n",
              "      border: none;\n",
              "      border-radius: 50%;\n",
              "      cursor: pointer;\n",
              "      display: none;\n",
              "      fill: #1967D2;\n",
              "      height: 32px;\n",
              "      padding: 0 0 0 0;\n",
              "      width: 32px;\n",
              "    }\n",
              "\n",
              "    .colab-df-convert:hover {\n",
              "      background-color: #E2EBFA;\n",
              "      box-shadow: 0px 1px 2px rgba(60, 64, 67, 0.3), 0px 1px 3px 1px rgba(60, 64, 67, 0.15);\n",
              "      fill: #174EA6;\n",
              "    }\n",
              "\n",
              "    [theme=dark] .colab-df-convert {\n",
              "      background-color: #3B4455;\n",
              "      fill: #D2E3FC;\n",
              "    }\n",
              "\n",
              "    [theme=dark] .colab-df-convert:hover {\n",
              "      background-color: #434B5C;\n",
              "      box-shadow: 0px 1px 3px 1px rgba(0, 0, 0, 0.15);\n",
              "      filter: drop-shadow(0px 1px 2px rgba(0, 0, 0, 0.3));\n",
              "      fill: #FFFFFF;\n",
              "    }\n",
              "  </style>\n",
              "\n",
              "      <script>\n",
              "        const buttonEl =\n",
              "          document.querySelector('#df-d0cd9548-8abb-4ddf-b087-fe43c15fa0b0 button.colab-df-convert');\n",
              "        buttonEl.style.display =\n",
              "          google.colab.kernel.accessAllowed ? 'block' : 'none';\n",
              "\n",
              "        async function convertToInteractive(key) {\n",
              "          const element = document.querySelector('#df-d0cd9548-8abb-4ddf-b087-fe43c15fa0b0');\n",
              "          const dataTable =\n",
              "            await google.colab.kernel.invokeFunction('convertToInteractive',\n",
              "                                                     [key], {});\n",
              "          if (!dataTable) return;\n",
              "\n",
              "          const docLinkHtml = 'Like what you see? Visit the ' +\n",
              "            '<a target=\"_blank\" href=https://colab.research.google.com/notebooks/data_table.ipynb>data table notebook</a>'\n",
              "            + ' to learn more about interactive tables.';\n",
              "          element.innerHTML = '';\n",
              "          dataTable['output_type'] = 'display_data';\n",
              "          await google.colab.output.renderOutput(dataTable, element);\n",
              "          const docLink = document.createElement('div');\n",
              "          docLink.innerHTML = docLinkHtml;\n",
              "          element.appendChild(docLink);\n",
              "        }\n",
              "      </script>\n",
              "    </div>\n",
              "  </div>\n",
              "  "
            ]
          },
          "metadata": {},
          "execution_count": 53
        }
      ],
      "source": [
        "X_train.head()"
      ]
    },
    {
      "cell_type": "code",
      "execution_count": null,
      "metadata": {
        "colab": {
          "base_uri": "https://localhost:8080/",
          "height": 236
        },
        "id": "FcdKhvV0Fwrw",
        "outputId": "0bde67c0-6312-4da8-835b-16e08df30216"
      },
      "outputs": [
        {
          "output_type": "execute_result",
          "data": {
            "text/plain": [
              "       LIMIT_BAL  SEX  EDUCATION  MARRIAGE       AGE  PAY_SEP  PAY_AUG  \\\n",
              "12621   0.222222    2          3         1  0.155172       -1       -1   \n",
              "37856   0.070707    2          2         1  0.275862        0       -1   \n",
              "18436   0.070707    2          4         2  0.068966       -1       -1   \n",
              "295     0.191919    1          1         2  0.172414       -1       -1   \n",
              "9443    0.141414    1          1         2  0.172414       -1       -1   \n",
              "\n",
              "       PAY_JUL  PAY_JUN  PAY_MAY  ...  BILL_AMT_APR  PAY_AMT_SEP  PAY_AMT_AUG  \\\n",
              "12621       -1       -1       -1  ...        132239         7214         6264   \n",
              "37856       -1       -2       -2  ...             0         1008            0   \n",
              "18436       -1       -1       -1  ...             0         1500         2000   \n",
              "295         -1       -1       -1  ...        133990         9000         7465   \n",
              "9443        -1       -1       -1  ...          6121            0          601   \n",
              "\n",
              "       PAY_AMT_JUL  PAY_AMT_JUN  PAY_AMT_MAY  PAY_AMT_APR  \\\n",
              "12621        10000         5028         5000         5000   \n",
              "37856            0            0            0            0   \n",
              "18436         1000            0            0            0   \n",
              "295           4715         4804         5141         5300   \n",
              "9443          4102            0         2019         5515   \n",
              "\n",
              "       Number_of_paid_on_time  Number_of_times_delayed  \\\n",
              "12621                       6                        0   \n",
              "37856                       5                        0   \n",
              "18436                       6                        0   \n",
              "295                         6                        0   \n",
              "9443                        6                        0   \n",
              "\n",
              "       most_recent_month_delayed  \n",
              "12621                          0  \n",
              "37856                          0  \n",
              "18436                          0  \n",
              "295                            0  \n",
              "9443                           0  \n",
              "\n",
              "[5 rows x 26 columns]"
            ],
            "text/html": [
              "\n",
              "  <div id=\"df-9061a7ce-b84e-4c39-96a5-70298897b0ec\">\n",
              "    <div class=\"colab-df-container\">\n",
              "      <div>\n",
              "<style scoped>\n",
              "    .dataframe tbody tr th:only-of-type {\n",
              "        vertical-align: middle;\n",
              "    }\n",
              "\n",
              "    .dataframe tbody tr th {\n",
              "        vertical-align: top;\n",
              "    }\n",
              "\n",
              "    .dataframe thead th {\n",
              "        text-align: right;\n",
              "    }\n",
              "</style>\n",
              "<table border=\"1\" class=\"dataframe\">\n",
              "  <thead>\n",
              "    <tr style=\"text-align: right;\">\n",
              "      <th></th>\n",
              "      <th>LIMIT_BAL</th>\n",
              "      <th>SEX</th>\n",
              "      <th>EDUCATION</th>\n",
              "      <th>MARRIAGE</th>\n",
              "      <th>AGE</th>\n",
              "      <th>PAY_SEP</th>\n",
              "      <th>PAY_AUG</th>\n",
              "      <th>PAY_JUL</th>\n",
              "      <th>PAY_JUN</th>\n",
              "      <th>PAY_MAY</th>\n",
              "      <th>...</th>\n",
              "      <th>BILL_AMT_APR</th>\n",
              "      <th>PAY_AMT_SEP</th>\n",
              "      <th>PAY_AMT_AUG</th>\n",
              "      <th>PAY_AMT_JUL</th>\n",
              "      <th>PAY_AMT_JUN</th>\n",
              "      <th>PAY_AMT_MAY</th>\n",
              "      <th>PAY_AMT_APR</th>\n",
              "      <th>Number_of_paid_on_time</th>\n",
              "      <th>Number_of_times_delayed</th>\n",
              "      <th>most_recent_month_delayed</th>\n",
              "    </tr>\n",
              "  </thead>\n",
              "  <tbody>\n",
              "    <tr>\n",
              "      <th>12621</th>\n",
              "      <td>0.222222</td>\n",
              "      <td>2</td>\n",
              "      <td>3</td>\n",
              "      <td>1</td>\n",
              "      <td>0.155172</td>\n",
              "      <td>-1</td>\n",
              "      <td>-1</td>\n",
              "      <td>-1</td>\n",
              "      <td>-1</td>\n",
              "      <td>-1</td>\n",
              "      <td>...</td>\n",
              "      <td>132239</td>\n",
              "      <td>7214</td>\n",
              "      <td>6264</td>\n",
              "      <td>10000</td>\n",
              "      <td>5028</td>\n",
              "      <td>5000</td>\n",
              "      <td>5000</td>\n",
              "      <td>6</td>\n",
              "      <td>0</td>\n",
              "      <td>0</td>\n",
              "    </tr>\n",
              "    <tr>\n",
              "      <th>37856</th>\n",
              "      <td>0.070707</td>\n",
              "      <td>2</td>\n",
              "      <td>2</td>\n",
              "      <td>1</td>\n",
              "      <td>0.275862</td>\n",
              "      <td>0</td>\n",
              "      <td>-1</td>\n",
              "      <td>-1</td>\n",
              "      <td>-2</td>\n",
              "      <td>-2</td>\n",
              "      <td>...</td>\n",
              "      <td>0</td>\n",
              "      <td>1008</td>\n",
              "      <td>0</td>\n",
              "      <td>0</td>\n",
              "      <td>0</td>\n",
              "      <td>0</td>\n",
              "      <td>0</td>\n",
              "      <td>5</td>\n",
              "      <td>0</td>\n",
              "      <td>0</td>\n",
              "    </tr>\n",
              "    <tr>\n",
              "      <th>18436</th>\n",
              "      <td>0.070707</td>\n",
              "      <td>2</td>\n",
              "      <td>4</td>\n",
              "      <td>2</td>\n",
              "      <td>0.068966</td>\n",
              "      <td>-1</td>\n",
              "      <td>-1</td>\n",
              "      <td>-1</td>\n",
              "      <td>-1</td>\n",
              "      <td>-1</td>\n",
              "      <td>...</td>\n",
              "      <td>0</td>\n",
              "      <td>1500</td>\n",
              "      <td>2000</td>\n",
              "      <td>1000</td>\n",
              "      <td>0</td>\n",
              "      <td>0</td>\n",
              "      <td>0</td>\n",
              "      <td>6</td>\n",
              "      <td>0</td>\n",
              "      <td>0</td>\n",
              "    </tr>\n",
              "    <tr>\n",
              "      <th>295</th>\n",
              "      <td>0.191919</td>\n",
              "      <td>1</td>\n",
              "      <td>1</td>\n",
              "      <td>2</td>\n",
              "      <td>0.172414</td>\n",
              "      <td>-1</td>\n",
              "      <td>-1</td>\n",
              "      <td>-1</td>\n",
              "      <td>-1</td>\n",
              "      <td>-1</td>\n",
              "      <td>...</td>\n",
              "      <td>133990</td>\n",
              "      <td>9000</td>\n",
              "      <td>7465</td>\n",
              "      <td>4715</td>\n",
              "      <td>4804</td>\n",
              "      <td>5141</td>\n",
              "      <td>5300</td>\n",
              "      <td>6</td>\n",
              "      <td>0</td>\n",
              "      <td>0</td>\n",
              "    </tr>\n",
              "    <tr>\n",
              "      <th>9443</th>\n",
              "      <td>0.141414</td>\n",
              "      <td>1</td>\n",
              "      <td>1</td>\n",
              "      <td>2</td>\n",
              "      <td>0.172414</td>\n",
              "      <td>-1</td>\n",
              "      <td>-1</td>\n",
              "      <td>-1</td>\n",
              "      <td>-1</td>\n",
              "      <td>-1</td>\n",
              "      <td>...</td>\n",
              "      <td>6121</td>\n",
              "      <td>0</td>\n",
              "      <td>601</td>\n",
              "      <td>4102</td>\n",
              "      <td>0</td>\n",
              "      <td>2019</td>\n",
              "      <td>5515</td>\n",
              "      <td>6</td>\n",
              "      <td>0</td>\n",
              "      <td>0</td>\n",
              "    </tr>\n",
              "  </tbody>\n",
              "</table>\n",
              "<p>5 rows × 26 columns</p>\n",
              "</div>\n",
              "      <button class=\"colab-df-convert\" onclick=\"convertToInteractive('df-9061a7ce-b84e-4c39-96a5-70298897b0ec')\"\n",
              "              title=\"Convert this dataframe to an interactive table.\"\n",
              "              style=\"display:none;\">\n",
              "        \n",
              "  <svg xmlns=\"http://www.w3.org/2000/svg\" height=\"24px\"viewBox=\"0 0 24 24\"\n",
              "       width=\"24px\">\n",
              "    <path d=\"M0 0h24v24H0V0z\" fill=\"none\"/>\n",
              "    <path d=\"M18.56 5.44l.94 2.06.94-2.06 2.06-.94-2.06-.94-.94-2.06-.94 2.06-2.06.94zm-11 1L8.5 8.5l.94-2.06 2.06-.94-2.06-.94L8.5 2.5l-.94 2.06-2.06.94zm10 10l.94 2.06.94-2.06 2.06-.94-2.06-.94-.94-2.06-.94 2.06-2.06.94z\"/><path d=\"M17.41 7.96l-1.37-1.37c-.4-.4-.92-.59-1.43-.59-.52 0-1.04.2-1.43.59L10.3 9.45l-7.72 7.72c-.78.78-.78 2.05 0 2.83L4 21.41c.39.39.9.59 1.41.59.51 0 1.02-.2 1.41-.59l7.78-7.78 2.81-2.81c.8-.78.8-2.07 0-2.86zM5.41 20L4 18.59l7.72-7.72 1.47 1.35L5.41 20z\"/>\n",
              "  </svg>\n",
              "      </button>\n",
              "      \n",
              "  <style>\n",
              "    .colab-df-container {\n",
              "      display:flex;\n",
              "      flex-wrap:wrap;\n",
              "      gap: 12px;\n",
              "    }\n",
              "\n",
              "    .colab-df-convert {\n",
              "      background-color: #E8F0FE;\n",
              "      border: none;\n",
              "      border-radius: 50%;\n",
              "      cursor: pointer;\n",
              "      display: none;\n",
              "      fill: #1967D2;\n",
              "      height: 32px;\n",
              "      padding: 0 0 0 0;\n",
              "      width: 32px;\n",
              "    }\n",
              "\n",
              "    .colab-df-convert:hover {\n",
              "      background-color: #E2EBFA;\n",
              "      box-shadow: 0px 1px 2px rgba(60, 64, 67, 0.3), 0px 1px 3px 1px rgba(60, 64, 67, 0.15);\n",
              "      fill: #174EA6;\n",
              "    }\n",
              "\n",
              "    [theme=dark] .colab-df-convert {\n",
              "      background-color: #3B4455;\n",
              "      fill: #D2E3FC;\n",
              "    }\n",
              "\n",
              "    [theme=dark] .colab-df-convert:hover {\n",
              "      background-color: #434B5C;\n",
              "      box-shadow: 0px 1px 3px 1px rgba(0, 0, 0, 0.15);\n",
              "      filter: drop-shadow(0px 1px 2px rgba(0, 0, 0, 0.3));\n",
              "      fill: #FFFFFF;\n",
              "    }\n",
              "  </style>\n",
              "\n",
              "      <script>\n",
              "        const buttonEl =\n",
              "          document.querySelector('#df-9061a7ce-b84e-4c39-96a5-70298897b0ec button.colab-df-convert');\n",
              "        buttonEl.style.display =\n",
              "          google.colab.kernel.accessAllowed ? 'block' : 'none';\n",
              "\n",
              "        async function convertToInteractive(key) {\n",
              "          const element = document.querySelector('#df-9061a7ce-b84e-4c39-96a5-70298897b0ec');\n",
              "          const dataTable =\n",
              "            await google.colab.kernel.invokeFunction('convertToInteractive',\n",
              "                                                     [key], {});\n",
              "          if (!dataTable) return;\n",
              "\n",
              "          const docLinkHtml = 'Like what you see? Visit the ' +\n",
              "            '<a target=\"_blank\" href=https://colab.research.google.com/notebooks/data_table.ipynb>data table notebook</a>'\n",
              "            + ' to learn more about interactive tables.';\n",
              "          element.innerHTML = '';\n",
              "          dataTable['output_type'] = 'display_data';\n",
              "          await google.colab.output.renderOutput(dataTable, element);\n",
              "          const docLink = document.createElement('div');\n",
              "          docLink.innerHTML = docLinkHtml;\n",
              "          element.appendChild(docLink);\n",
              "        }\n",
              "      </script>\n",
              "    </div>\n",
              "  </div>\n",
              "  "
            ]
          },
          "metadata": {},
          "execution_count": 54
        }
      ],
      "source": [
        "X_test.head()"
      ]
    },
    {
      "cell_type": "markdown",
      "metadata": {
        "id": "UqZ0jt4W4ub3"
      },
      "source": [
        "# D) Model Selection "
      ]
    },
    {
      "cell_type": "markdown",
      "metadata": {
        "id": "j58kfKaB4xZ1"
      },
      "source": [
        "### I) Use GridSearch to find the best performance models\n",
        "\n",
        "There are a few classifiers widely used for classification problem. Below is the performance result in accuracy \n",
        "\n",
        "\n",
        "1) XGBoost\n",
        "\n",
        "2) Random Forest Classifier\n",
        "\n",
        "3) Logistic Regression\n",
        "\n",
        "4) Neural Network"
      ]
    },
    {
      "cell_type": "code",
      "execution_count": null,
      "metadata": {
        "id": "lM7KfxeeFyp_"
      },
      "outputs": [],
      "source": [
        "def test(models, X_train, y_train, X_test, y_test, iterations = 25):\n",
        "    accuracy_results = {}\n",
        "    for i in models:\n",
        "        accuracy_train = []\n",
        "        accuracy_test = []\n",
        "        for j in range(iterations):\n",
        "\n",
        "            accuracy_test.append(accuracy_score(y_test,\n",
        "                                            models[i].fit(X_train, \n",
        "                                                         y_train).predict(X_test)))\n",
        "            accuracy_train.append(accuracy_score(y_train, \n",
        "                                             models[i].fit(X_train, \n",
        "                                                          y_train).predict(X_train)))\n",
        "            \n",
        "        accuracy_results[i] = [np.mean(accuracy_train), np.mean(accuracy_test)]\n",
        "    return pd.DataFrame(accuracy_results)"
      ]
    },
    {
      "cell_type": "code",
      "execution_count": null,
      "metadata": {
        "id": "6XnQQO-j6RXS"
      },
      "outputs": [],
      "source": [
        "xgb_params = {\n",
        "    'model__n_estimators': [5,10],\n",
        "    'model__max_depth': [3,6],\n",
        "    'model__learning_rate': [0.1, 0.20]\n",
        "    }\n",
        "\n",
        "rf_params = {\n",
        "    'max_depth': [5,10, 20],\n",
        "    'min_samples_leaf': [3,5],\n",
        "    'class_weight': ['balanced']\n",
        "  }\n",
        "logistic_params = {\n",
        "    'C': [0.05,0.1],\n",
        "\n",
        "  }\n",
        "\n"
      ]
    },
    {
      "cell_type": "code",
      "execution_count": null,
      "metadata": {
        "id": "CBQOrWtV6wZV"
      },
      "outputs": [],
      "source": [
        "models2 = {\n",
        "    'xgb': GridSearchCV(xgb.XGBClassifier(),\n",
        "                             param_grid=xgb_params).fit(X_train, y_train).best_estimator_,\n",
        "    'RandomF': GridSearchCV(RandomForestClassifier(), \n",
        "                               param_grid=rf_params).fit(X_train, y_train).best_estimator_,\n",
        "    'logistic': GridSearchCV(LogisticRegression(), \n",
        "                               param_grid=logistic_params).fit(X_train, y_train).best_estimator_,\n",
        "           }"
      ]
    },
    {
      "cell_type": "code",
      "execution_count": null,
      "metadata": {
        "id": "WGdEIMEM-jBq",
        "colab": {
          "base_uri": "https://localhost:8080/",
          "height": 112
        },
        "outputId": "f2092dcf-e1c2-4a44-bddf-8db3a11a85b1"
      },
      "outputs": [
        {
          "output_type": "execute_result",
          "data": {
            "text/plain": [
              "        xgb   RandomF  logistic\n",
              "0  0.822642  0.950172  0.583222\n",
              "1  0.813717  0.845607  0.579392"
            ],
            "text/html": [
              "\n",
              "  <div id=\"df-e9cd57bd-1942-4077-ad0b-972b42c82553\">\n",
              "    <div class=\"colab-df-container\">\n",
              "      <div>\n",
              "<style scoped>\n",
              "    .dataframe tbody tr th:only-of-type {\n",
              "        vertical-align: middle;\n",
              "    }\n",
              "\n",
              "    .dataframe tbody tr th {\n",
              "        vertical-align: top;\n",
              "    }\n",
              "\n",
              "    .dataframe thead th {\n",
              "        text-align: right;\n",
              "    }\n",
              "</style>\n",
              "<table border=\"1\" class=\"dataframe\">\n",
              "  <thead>\n",
              "    <tr style=\"text-align: right;\">\n",
              "      <th></th>\n",
              "      <th>xgb</th>\n",
              "      <th>RandomF</th>\n",
              "      <th>logistic</th>\n",
              "    </tr>\n",
              "  </thead>\n",
              "  <tbody>\n",
              "    <tr>\n",
              "      <th>0</th>\n",
              "      <td>0.822642</td>\n",
              "      <td>0.950172</td>\n",
              "      <td>0.583222</td>\n",
              "    </tr>\n",
              "    <tr>\n",
              "      <th>1</th>\n",
              "      <td>0.813717</td>\n",
              "      <td>0.845607</td>\n",
              "      <td>0.579392</td>\n",
              "    </tr>\n",
              "  </tbody>\n",
              "</table>\n",
              "</div>\n",
              "      <button class=\"colab-df-convert\" onclick=\"convertToInteractive('df-e9cd57bd-1942-4077-ad0b-972b42c82553')\"\n",
              "              title=\"Convert this dataframe to an interactive table.\"\n",
              "              style=\"display:none;\">\n",
              "        \n",
              "  <svg xmlns=\"http://www.w3.org/2000/svg\" height=\"24px\"viewBox=\"0 0 24 24\"\n",
              "       width=\"24px\">\n",
              "    <path d=\"M0 0h24v24H0V0z\" fill=\"none\"/>\n",
              "    <path d=\"M18.56 5.44l.94 2.06.94-2.06 2.06-.94-2.06-.94-.94-2.06-.94 2.06-2.06.94zm-11 1L8.5 8.5l.94-2.06 2.06-.94-2.06-.94L8.5 2.5l-.94 2.06-2.06.94zm10 10l.94 2.06.94-2.06 2.06-.94-2.06-.94-.94-2.06-.94 2.06-2.06.94z\"/><path d=\"M17.41 7.96l-1.37-1.37c-.4-.4-.92-.59-1.43-.59-.52 0-1.04.2-1.43.59L10.3 9.45l-7.72 7.72c-.78.78-.78 2.05 0 2.83L4 21.41c.39.39.9.59 1.41.59.51 0 1.02-.2 1.41-.59l7.78-7.78 2.81-2.81c.8-.78.8-2.07 0-2.86zM5.41 20L4 18.59l7.72-7.72 1.47 1.35L5.41 20z\"/>\n",
              "  </svg>\n",
              "      </button>\n",
              "      \n",
              "  <style>\n",
              "    .colab-df-container {\n",
              "      display:flex;\n",
              "      flex-wrap:wrap;\n",
              "      gap: 12px;\n",
              "    }\n",
              "\n",
              "    .colab-df-convert {\n",
              "      background-color: #E8F0FE;\n",
              "      border: none;\n",
              "      border-radius: 50%;\n",
              "      cursor: pointer;\n",
              "      display: none;\n",
              "      fill: #1967D2;\n",
              "      height: 32px;\n",
              "      padding: 0 0 0 0;\n",
              "      width: 32px;\n",
              "    }\n",
              "\n",
              "    .colab-df-convert:hover {\n",
              "      background-color: #E2EBFA;\n",
              "      box-shadow: 0px 1px 2px rgba(60, 64, 67, 0.3), 0px 1px 3px 1px rgba(60, 64, 67, 0.15);\n",
              "      fill: #174EA6;\n",
              "    }\n",
              "\n",
              "    [theme=dark] .colab-df-convert {\n",
              "      background-color: #3B4455;\n",
              "      fill: #D2E3FC;\n",
              "    }\n",
              "\n",
              "    [theme=dark] .colab-df-convert:hover {\n",
              "      background-color: #434B5C;\n",
              "      box-shadow: 0px 1px 3px 1px rgba(0, 0, 0, 0.15);\n",
              "      filter: drop-shadow(0px 1px 2px rgba(0, 0, 0, 0.3));\n",
              "      fill: #FFFFFF;\n",
              "    }\n",
              "  </style>\n",
              "\n",
              "      <script>\n",
              "        const buttonEl =\n",
              "          document.querySelector('#df-e9cd57bd-1942-4077-ad0b-972b42c82553 button.colab-df-convert');\n",
              "        buttonEl.style.display =\n",
              "          google.colab.kernel.accessAllowed ? 'block' : 'none';\n",
              "\n",
              "        async function convertToInteractive(key) {\n",
              "          const element = document.querySelector('#df-e9cd57bd-1942-4077-ad0b-972b42c82553');\n",
              "          const dataTable =\n",
              "            await google.colab.kernel.invokeFunction('convertToInteractive',\n",
              "                                                     [key], {});\n",
              "          if (!dataTable) return;\n",
              "\n",
              "          const docLinkHtml = 'Like what you see? Visit the ' +\n",
              "            '<a target=\"_blank\" href=https://colab.research.google.com/notebooks/data_table.ipynb>data table notebook</a>'\n",
              "            + ' to learn more about interactive tables.';\n",
              "          element.innerHTML = '';\n",
              "          dataTable['output_type'] = 'display_data';\n",
              "          await google.colab.output.renderOutput(dataTable, element);\n",
              "          const docLink = document.createElement('div');\n",
              "          docLink.innerHTML = docLinkHtml;\n",
              "          element.appendChild(docLink);\n",
              "        }\n",
              "      </script>\n",
              "    </div>\n",
              "  </div>\n",
              "  "
            ]
          },
          "metadata": {},
          "execution_count": 58
        }
      ],
      "source": [
        "test(models2, X_train, y_train, X_test, y_test)"
      ]
    },
    {
      "cell_type": "code",
      "execution_count": null,
      "metadata": {
        "id": "hOdNnVP3TTe3",
        "colab": {
          "base_uri": "https://localhost:8080/"
        },
        "outputId": "a84ec0fe-9b60-4a67-e988-9da2b862fcba"
      },
      "outputs": [
        {
          "output_type": "execute_result",
          "data": {
            "text/plain": [
              "{'xgb': XGBClassifier(model__learning_rate=0.1, model__max_depth=3,\n",
              "               model__n_estimators=5),\n",
              " 'RandomF': RandomForestClassifier(class_weight='balanced', max_depth=20,\n",
              "                        min_samples_leaf=3),\n",
              " 'logistic': LogisticRegression(C=0.1)}"
            ]
          },
          "metadata": {},
          "execution_count": 59
        }
      ],
      "source": [
        "models2"
      ]
    },
    {
      "cell_type": "markdown",
      "source": [
        "#### 2) Model Evaluation "
      ],
      "metadata": {
        "id": "iw1pkv0VsFY0"
      }
    },
    {
      "cell_type": "markdown",
      "source": [
        "#### I) XGB:"
      ],
      "metadata": {
        "id": "fvcOB4pbsTFW"
      }
    },
    {
      "cell_type": "code",
      "source": [
        "y_pred_xgb=models2['xgb'].predict(X_test)"
      ],
      "metadata": {
        "id": "-BnHut6qsE7R"
      },
      "execution_count": null,
      "outputs": []
    },
    {
      "cell_type": "code",
      "source": [
        "print(classification_report(y_test, y_pred_xgb))"
      ],
      "metadata": {
        "colab": {
          "base_uri": "https://localhost:8080/"
        },
        "id": "TCZvA59asrGW",
        "outputId": "4b93d3c6-581c-4a18-8fc3-2ee450c711ab"
      },
      "execution_count": null,
      "outputs": [
        {
          "output_type": "stream",
          "name": "stdout",
          "text": [
            "              precision    recall  f1-score   support\n",
            "\n",
            "           0       0.78      0.88      0.82      4650\n",
            "           1       0.86      0.75      0.80      4696\n",
            "\n",
            "    accuracy                           0.81      9346\n",
            "   macro avg       0.82      0.81      0.81      9346\n",
            "weighted avg       0.82      0.81      0.81      9346\n",
            "\n"
          ]
        }
      ]
    },
    {
      "cell_type": "code",
      "source": [
        "plot_roc_curve(models2['xgb'], X_test, y_test)"
      ],
      "metadata": {
        "colab": {
          "base_uri": "https://localhost:8080/",
          "height": 296
        },
        "id": "iYCE76tIsxpd",
        "outputId": "cc962198-f9dc-484d-e712-900a0869e9f9"
      },
      "execution_count": null,
      "outputs": [
        {
          "output_type": "execute_result",
          "data": {
            "text/plain": [
              "<sklearn.metrics._plot.roc_curve.RocCurveDisplay at 0x7fbc01136310>"
            ]
          },
          "metadata": {},
          "execution_count": 62
        },
        {
          "output_type": "display_data",
          "data": {
            "text/plain": [
              "<Figure size 432x288 with 1 Axes>"
            ],
            "image/png": "[encoded data removed]"
          },
          "metadata": {
            "needs_background": "light"
          }
        }
      ]
    },
    {
      "cell_type": "markdown",
      "source": [
        "#### II) Random Forest"
      ],
      "metadata": {
        "id": "VJLjwTK-tAyO"
      }
    },
    {
      "cell_type": "code",
      "source": [
        "y_pred_rf=models2['RandomF'].predict(X_test)"
      ],
      "metadata": {
        "id": "Zz0NeeD7tIY4"
      },
      "execution_count": null,
      "outputs": []
    },
    {
      "cell_type": "code",
      "source": [
        "print(classification_report(y_test, y_pred_rf))"
      ],
      "metadata": {
        "colab": {
          "base_uri": "https://localhost:8080/"
        },
        "id": "uv4jGFkStIU8",
        "outputId": "fc5c742a-6e02-4232-8855-61519760843a"
      },
      "execution_count": null,
      "outputs": [
        {
          "output_type": "stream",
          "name": "stdout",
          "text": [
            "              precision    recall  f1-score   support\n",
            "\n",
            "           0       0.81      0.90      0.85      4650\n",
            "           1       0.89      0.79      0.84      4696\n",
            "\n",
            "    accuracy                           0.84      9346\n",
            "   macro avg       0.85      0.85      0.84      9346\n",
            "weighted avg       0.85      0.84      0.84      9346\n",
            "\n"
          ]
        }
      ]
    },
    {
      "cell_type": "code",
      "source": [
        "plot_roc_curve(models2['RandomF'], X_test, y_test)"
      ],
      "metadata": {
        "colab": {
          "base_uri": "https://localhost:8080/",
          "height": 296
        },
        "id": "gqMFr-E1tIC9",
        "outputId": "63c09f00-fae7-413a-f01a-bff9af53bfa3"
      },
      "execution_count": null,
      "outputs": [
        {
          "output_type": "execute_result",
          "data": {
            "text/plain": [
              "<sklearn.metrics._plot.roc_curve.RocCurveDisplay at 0x7fbc00e3a0d0>"
            ]
          },
          "metadata": {},
          "execution_count": 65
        },
        {
          "output_type": "display_data",
          "data": {
            "text/plain": [
              "<Figure size 432x288 with 1 Axes>"
            ],
            "image/png": "[encoded data removed]"
          },
          "metadata": {
            "needs_background": "light"
          }
        }
      ]
    },
    {
      "cell_type": "markdown",
      "source": [
        "#### III) Logistic Regression"
      ],
      "metadata": {
        "id": "-rklOk9jtV0Y"
      }
    },
    {
      "cell_type": "code",
      "source": [
        "y_pred_logistic=models2['logistic'].predict_proba(X_test)\n",
        "y_pred_logistic=y_pred_logistic[:,1]"
      ],
      "metadata": {
        "id": "6ADqjxLSth81"
      },
      "execution_count": null,
      "outputs": []
    },
    {
      "cell_type": "code",
      "source": [
        "# keep probabilities of the positive class only\n",
        "y_pred_log_class=[]\n",
        "for prob in y_pred_logistic:\n",
        "  if prob <0.5:\n",
        "    y_pred_log_class.append(0)\n",
        "  else:\n",
        "    y_pred_log_class.append(1)"
      ],
      "metadata": {
        "id": "4IJpp-p_thu6"
      },
      "execution_count": null,
      "outputs": []
    },
    {
      "cell_type": "code",
      "source": [
        "print(classification_report(y_test, y_pred_log_class))"
      ],
      "metadata": {
        "colab": {
          "base_uri": "https://localhost:8080/"
        },
        "id": "TmnxI4ssvDIt",
        "outputId": "564aa1a9-0a71-4ff0-8f8f-40836ffecd27"
      },
      "execution_count": null,
      "outputs": [
        {
          "output_type": "stream",
          "name": "stdout",
          "text": [
            "              precision    recall  f1-score   support\n",
            "\n",
            "           0       0.56      0.74      0.64      4650\n",
            "           1       0.62      0.42      0.50      4696\n",
            "\n",
            "    accuracy                           0.58      9346\n",
            "   macro avg       0.59      0.58      0.57      9346\n",
            "weighted avg       0.59      0.58      0.57      9346\n",
            "\n"
          ]
        }
      ]
    },
    {
      "cell_type": "code",
      "source": [
        "plot_roc_curve(models2['logistic'], X_test, y_test)"
      ],
      "metadata": {
        "colab": {
          "base_uri": "https://localhost:8080/",
          "height": 296
        },
        "id": "y7yAtcahthYf",
        "outputId": "12c6e295-83ff-42b7-ff15-7909b21c6f67"
      },
      "execution_count": null,
      "outputs": [
        {
          "output_type": "execute_result",
          "data": {
            "text/plain": [
              "<sklearn.metrics._plot.roc_curve.RocCurveDisplay at 0x7fbc00c28150>"
            ]
          },
          "metadata": {},
          "execution_count": 69
        },
        {
          "output_type": "display_data",
          "data": {
            "text/plain": [
              "<Figure size 432x288 with 1 Axes>"
            ],
            "image/png": "[encoded data removed]"
          },
          "metadata": {
            "needs_background": "light"
          }
        }
      ]
    },
    {
      "cell_type": "markdown",
      "metadata": {
        "id": "8aPahWd8_b5u"
      },
      "source": [
        "#### IV) Neural Network - DNN"
      ]
    },
    {
      "cell_type": "code",
      "execution_count": null,
      "metadata": {
        "id": "BFAgRamB_kqY"
      },
      "outputs": [],
      "source": [
        "attribute_len=len(X_train.columns)"
      ]
    },
    {
      "cell_type": "code",
      "execution_count": null,
      "metadata": {
        "id": "U2-OzL6w-nae",
        "colab": {
          "base_uri": "https://localhost:8080/"
        },
        "outputId": "7972d51d-2aa9-43d9-a5ca-84a72a2296ad"
      },
      "outputs": [
        {
          "output_type": "stream",
          "name": "stdout",
          "text": [
            "Epoch 1/50\n",
            "1169/1169 [==============================] - 3s 2ms/step - loss: 3.8675 - accuracy: 0.4993\n",
            "Epoch 2/50\n",
            "1169/1169 [==============================] - 3s 2ms/step - loss: 0.7267 - accuracy: 0.4992\n",
            "Epoch 3/50\n",
            "1169/1169 [==============================] - 3s 2ms/step - loss: 0.6968 - accuracy: 0.4984\n",
            "Epoch 4/50\n",
            "1169/1169 [==============================] - 2s 2ms/step - loss: 0.6936 - accuracy: 0.4988\n",
            "Epoch 5/50\n",
            "1169/1169 [==============================] - 2s 2ms/step - loss: 0.6941 - accuracy: 0.5010\n",
            "Epoch 6/50\n",
            "1169/1169 [==============================] - 2s 2ms/step - loss: 0.6941 - accuracy: 0.4986\n",
            "Epoch 7/50\n",
            "1169/1169 [==============================] - 3s 2ms/step - loss: 0.6954 - accuracy: 0.4962\n",
            "Epoch 8/50\n",
            "1169/1169 [==============================] - 3s 2ms/step - loss: 0.6936 - accuracy: 0.4976\n",
            "Epoch 9/50\n",
            "1169/1169 [==============================] - 3s 2ms/step - loss: 0.6933 - accuracy: 0.5000\n",
            "Epoch 10/50\n",
            "1169/1169 [==============================] - 3s 2ms/step - loss: 0.6947 - accuracy: 0.4961\n",
            "Epoch 11/50\n",
            "1169/1169 [==============================] - 3s 2ms/step - loss: 0.6936 - accuracy: 0.4964\n",
            "Epoch 12/50\n",
            "1169/1169 [==============================] - 2s 2ms/step - loss: 0.6934 - accuracy: 0.5003\n",
            "Epoch 13/50\n",
            "1169/1169 [==============================] - 2s 2ms/step - loss: 0.6933 - accuracy: 0.5016\n",
            "Epoch 14/50\n",
            "1169/1169 [==============================] - 2s 2ms/step - loss: 0.6934 - accuracy: 0.4994\n",
            "Epoch 15/50\n",
            "1169/1169 [==============================] - 3s 2ms/step - loss: 0.6933 - accuracy: 0.5036\n",
            "Epoch 16/50\n",
            "1169/1169 [==============================] - 2s 2ms/step - loss: 0.6934 - accuracy: 0.4995\n",
            "Epoch 17/50\n",
            "1169/1169 [==============================] - 3s 2ms/step - loss: 0.6934 - accuracy: 0.4995\n",
            "Epoch 18/50\n",
            "1169/1169 [==============================] - 3s 2ms/step - loss: 0.6934 - accuracy: 0.4976\n",
            "Epoch 19/50\n",
            "1169/1169 [==============================] - 3s 2ms/step - loss: 0.6935 - accuracy: 0.4998\n",
            "Epoch 20/50\n",
            "1169/1169 [==============================] - 3s 2ms/step - loss: 0.6935 - accuracy: 0.4975\n",
            "Epoch 21/50\n",
            "1169/1169 [==============================] - 3s 2ms/step - loss: 0.6933 - accuracy: 0.4979\n",
            "Epoch 22/50\n",
            "1169/1169 [==============================] - 3s 2ms/step - loss: 0.6935 - accuracy: 0.4938\n",
            "Epoch 23/50\n",
            "1169/1169 [==============================] - 3s 2ms/step - loss: 0.6933 - accuracy: 0.4990\n",
            "Epoch 24/50\n",
            "1169/1169 [==============================] - 3s 3ms/step - loss: 0.6934 - accuracy: 0.4993\n",
            "Epoch 25/50\n",
            "1169/1169 [==============================] - 3s 2ms/step - loss: 0.6934 - accuracy: 0.5014\n",
            "Epoch 26/50\n",
            "1169/1169 [==============================] - 3s 2ms/step - loss: 0.6934 - accuracy: 0.4939\n",
            "Epoch 27/50\n",
            "1169/1169 [==============================] - 3s 3ms/step - loss: 0.6933 - accuracy: 0.4971\n",
            "Epoch 28/50\n",
            "1169/1169 [==============================] - 3s 2ms/step - loss: 0.6935 - accuracy: 0.4971\n",
            "Epoch 29/50\n",
            "1169/1169 [==============================] - 3s 2ms/step - loss: 0.6934 - accuracy: 0.4993\n",
            "Epoch 30/50\n",
            "1169/1169 [==============================] - 3s 3ms/step - loss: 0.6934 - accuracy: 0.4999\n",
            "Epoch 31/50\n",
            "1169/1169 [==============================] - 3s 3ms/step - loss: 0.6934 - accuracy: 0.4998\n",
            "Epoch 32/50\n",
            "1169/1169 [==============================] - 3s 3ms/step - loss: 0.6934 - accuracy: 0.4979\n",
            "Epoch 33/50\n",
            "1169/1169 [==============================] - 3s 2ms/step - loss: 0.6934 - accuracy: 0.5013\n",
            "Epoch 34/50\n",
            "1169/1169 [==============================] - 3s 2ms/step - loss: 0.6934 - accuracy: 0.5004\n",
            "Epoch 35/50\n",
            "1169/1169 [==============================] - 3s 2ms/step - loss: 0.6934 - accuracy: 0.5014\n",
            "Epoch 36/50\n",
            "1169/1169 [==============================] - 3s 2ms/step - loss: 0.6934 - accuracy: 0.5008\n",
            "Epoch 37/50\n",
            "1169/1169 [==============================] - 3s 2ms/step - loss: 0.6934 - accuracy: 0.4983\n",
            "Epoch 38/50\n",
            "1169/1169 [==============================] - 3s 2ms/step - loss: 0.6933 - accuracy: 0.5025\n",
            "Epoch 39/50\n",
            "1169/1169 [==============================] - 3s 2ms/step - loss: 0.6934 - accuracy: 0.4977\n",
            "Epoch 40/50\n",
            "1169/1169 [==============================] - 3s 3ms/step - loss: 0.6934 - accuracy: 0.4999\n",
            "Epoch 41/50\n",
            "1169/1169 [==============================] - 3s 3ms/step - loss: 0.6934 - accuracy: 0.4986\n",
            "Epoch 42/50\n",
            "1169/1169 [==============================] - 3s 3ms/step - loss: 0.6935 - accuracy: 0.4975\n",
            "Epoch 43/50\n",
            "1169/1169 [==============================] - 3s 2ms/step - loss: 0.6934 - accuracy: 0.5016\n",
            "Epoch 44/50\n",
            "1169/1169 [==============================] - 3s 2ms/step - loss: 0.6934 - accuracy: 0.4994\n",
            "Epoch 45/50\n",
            "1169/1169 [==============================] - 3s 2ms/step - loss: 0.6934 - accuracy: 0.4976\n",
            "Epoch 46/50\n",
            "1169/1169 [==============================] - 3s 2ms/step - loss: 0.6934 - accuracy: 0.4990\n",
            "Epoch 47/50\n",
            "1169/1169 [==============================] - 3s 3ms/step - loss: 0.6933 - accuracy: 0.5039\n",
            "Epoch 48/50\n",
            "1169/1169 [==============================] - 3s 2ms/step - loss: 0.6933 - accuracy: 0.5006\n",
            "Epoch 49/50\n",
            "1169/1169 [==============================] - 3s 2ms/step - loss: 0.6934 - accuracy: 0.5017\n",
            "Epoch 50/50\n",
            "1169/1169 [==============================] - 3s 2ms/step - loss: 0.6934 - accuracy: 0.4953\n"
          ]
        },
        {
          "output_type": "execute_result",
          "data": {
            "text/plain": [
              "<keras.callbacks.History at 0x7fbbfc3b0b90>"
            ]
          },
          "metadata": {},
          "execution_count": 71
        }
      ],
      "source": [
        "model = keras.Sequential([\n",
        "    keras.layers.Dense(9, input_shape=(attribute_len,), activation='relu'),\n",
        "    keras.layers.Dropout(rate=0.2),\n",
        "    keras.layers.Dense(5, activation='relu'),\n",
        "    keras.layers.Dropout(rate=0.2),\n",
        "    keras.layers.Dense(1, activation='sigmoid')\n",
        "\n",
        "])\n",
        "\n",
        "optimizer = keras.optimizers.Adam(lr=0.01)\n",
        "model.compile(optimizer=optimizer, loss='binary_crossentropy', metrics=['accuracy'])\n",
        "\n",
        "model.fit(X_train, y_train, epochs=50)"
      ]
    },
    {
      "cell_type": "code",
      "execution_count": null,
      "metadata": {
        "id": "B7UiJKWM_wJl",
        "colab": {
          "base_uri": "https://localhost:8080/"
        },
        "outputId": "fa974f4e-a8f1-407d-bdc8-01803408e90b"
      },
      "outputs": [
        {
          "output_type": "stream",
          "name": "stdout",
          "text": [
            "293/293 [==============================] - 1s 2ms/step - loss: 0.6931 - accuracy: 0.5025\n"
          ]
        },
        {
          "output_type": "execute_result",
          "data": {
            "text/plain": [
              "[0.6931425333023071, 0.5024609565734863]"
            ]
          },
          "metadata": {},
          "execution_count": 72
        }
      ],
      "source": [
        "model.evaluate(X_test, y_test)"
      ]
    },
    {
      "cell_type": "code",
      "execution_count": null,
      "metadata": {
        "id": "3HEO2ZKq_zu5"
      },
      "outputs": [],
      "source": [
        "y_pred_prob = model.predict(X_test)\n",
        "y_pred_prob=[np.around(item,decimals = 2) for item in y_pred_prob]"
      ]
    },
    {
      "cell_type": "code",
      "execution_count": null,
      "metadata": {
        "id": "8wqtwi__ADHU"
      },
      "outputs": [],
      "source": [
        "y_pred=[]\n",
        "\n",
        "for element in y_pred_prob:\n",
        "    if element >= 0 and element <0.5:\n",
        "        y_pred.append(0)\n",
        "    elif element >=0.5 and element <=1:\n",
        "        y_pred.append(1)\n",
        "\n",
        "    "
      ]
    },
    {
      "cell_type": "code",
      "execution_count": null,
      "metadata": {
        "id": "6hPVCWTBAG5f",
        "colab": {
          "base_uri": "https://localhost:8080/"
        },
        "outputId": "5fb0b724-50c6-4270-fc60-a7fe3db9e991"
      },
      "outputs": [
        {
          "output_type": "stream",
          "name": "stdout",
          "text": [
            "              precision    recall  f1-score   support\n",
            "\n",
            "           0       0.00      0.00      0.00      4650\n",
            "           1       0.50      1.00      0.67      4696\n",
            "\n",
            "    accuracy                           0.50      9346\n",
            "   macro avg       0.25      0.50      0.33      9346\n",
            "weighted avg       0.25      0.50      0.34      9346\n",
            "\n"
          ]
        }
      ],
      "source": [
        "print(classification_report(y_test, y_pred))"
      ]
    },
    {
      "cell_type": "markdown",
      "metadata": {
        "id": "HDfmimy8UEKY"
      },
      "source": [
        "### Conclusion: Among all these models, Random Forest performs the best\n",
        "\n",
        "#### Since we care more about the True Positive and we can risk more on the False Positive side, Random Forest has a better performance on capturing the True positive. "
      ]
    },
    {
      "cell_type": "code",
      "execution_count": null,
      "metadata": {
        "id": "kbt0nplgAUj0",
        "colab": {
          "base_uri": "https://localhost:8080/"
        },
        "outputId": "2f2978ba-75b5-43a2-cea3-c1f59c4db72b"
      },
      "outputs": [
        {
          "output_type": "execute_result",
          "data": {
            "text/plain": [
              "RandomForestClassifier(class_weight='balanced', max_depth=20,\n",
              "                       min_samples_leaf=3)"
            ]
          },
          "metadata": {},
          "execution_count": 76
        }
      ],
      "source": [
        "models2['RandomF']"
      ]
    },
    {
      "cell_type": "markdown",
      "metadata": {
        "id": "j8TkZW34Uu-O"
      },
      "source": [
        "# F) Construct the predictive Model"
      ]
    },
    {
      "cell_type": "markdown",
      "source": [
        "### I) Find out the optimal number of features to select"
      ],
      "metadata": {
        "id": "gj3joU-NwnjM"
      }
    },
    {
      "cell_type": "code",
      "source": [
        "selected_model=models2['RandomF']"
      ],
      "metadata": {
        "id": "qGgYdYycx7p_"
      },
      "execution_count": null,
      "outputs": []
    },
    {
      "cell_type": "code",
      "source": [
        "hyper_params=[{'n_features_to_select':[5,10,15,20,24]}]"
      ],
      "metadata": {
        "id": "nAOjyi-owqmp"
      },
      "execution_count": null,
      "outputs": []
    },
    {
      "cell_type": "code",
      "source": [
        "rfe=RFE(selected_model)"
      ],
      "metadata": {
        "id": "04xNcFxgyCIf"
      },
      "execution_count": null,
      "outputs": []
    },
    {
      "cell_type": "code",
      "source": [
        "modelcv=GridSearchCV(estimator=rfe,param_grid = hyper_params, scoring='accuracy', verbose=1, return_train_score=True)"
      ],
      "metadata": {
        "id": "TSo9VRhbyGZ1"
      },
      "execution_count": null,
      "outputs": []
    },
    {
      "cell_type": "code",
      "source": [
        "modelcv.fit(X_train, y_train)"
      ],
      "metadata": {
        "colab": {
          "base_uri": "https://localhost:8080/"
        },
        "id": "-5PUfFZmyGVZ",
        "outputId": "6787fa49-58d2-4aef-9518-90f1a481084a"
      },
      "execution_count": null,
      "outputs": [
        {
          "output_type": "stream",
          "name": "stdout",
          "text": [
            "Fitting 5 folds for each of 5 candidates, totalling 25 fits\n"
          ]
        },
        {
          "output_type": "execute_result",
          "data": {
            "text/plain": [
              "GridSearchCV(estimator=RFE(estimator=RandomForestClassifier(class_weight='balanced',\n",
              "                                                            max_depth=20,\n",
              "                                                            min_samples_leaf=3)),\n",
              "             param_grid=[{'n_features_to_select': [5, 10, 15, 20, 24]}],\n",
              "             return_train_score=True, scoring='accuracy', verbose=1)"
            ]
          },
          "metadata": {},
          "execution_count": 81
        }
      ]
    },
    {
      "cell_type": "code",
      "source": [
        "cvresults=pd.DataFrame(modelcv.cv_results_)"
      ],
      "metadata": {
        "id": "mnSKfFyjDSk0"
      },
      "execution_count": null,
      "outputs": []
    },
    {
      "cell_type": "code",
      "source": [
        "plt.figure(figsize=(12,6))\n",
        "x_ticks = [5, 10, 15, 20, 25]\n",
        "\n",
        "plt.xticks(ticks=x_ticks)\n",
        "plt.plot(cvresults['param_n_features_to_select'], cvresults['mean_test_score'])\n",
        "\n",
        "#plotting the mean train cvresults\n",
        "plt.plot(cvresults['param_n_features_to_select'], cvresults['mean_train_score'])\n",
        "\n",
        "plt.xlabel('Number of features')\n",
        "plt.ylabel('Optimal Number')\n",
        "plt.show()"
      ],
      "metadata": {
        "colab": {
          "base_uri": "https://localhost:8080/",
          "height": 388
        },
        "id": "kzdPqDKByGOc",
        "outputId": "85e4ec8d-c315-43be-8aaf-cc029b5820ec"
      },
      "execution_count": null,
      "outputs": [
        {
          "output_type": "display_data",
          "data": {
            "text/plain": [
              "<Figure size 864x432 with 1 Axes>"
            ],
            "image/png": "[encoded data removed]"
          },
          "metadata": {
            "needs_background": "light"
          }
        }
      ]
    },
    {
      "cell_type": "markdown",
      "source": [
        "The optimal number of features is around 20. "
      ],
      "metadata": {
        "id": "5GdoxFwzKOkL"
      }
    },
    {
      "cell_type": "markdown",
      "source": [
        "### 2) Find the Feature Importance"
      ],
      "metadata": {
        "id": "hzPlQY5_yrSG"
      }
    },
    {
      "cell_type": "code",
      "source": [
        "importances = selected_model.feature_importances_\n",
        "pd.DataFrame([X_train.columns,importances]).T.sort_values(by=[1],ascending=False)"
      ],
      "metadata": {
        "colab": {
          "base_uri": "https://localhost:8080/",
          "height": 865
        },
        "id": "jKS7BJ8CI62D",
        "outputId": "4b5310dd-60ac-4109-8f3d-b42cc881470d"
      },
      "execution_count": null,
      "outputs": [
        {
          "output_type": "execute_result",
          "data": {
            "text/plain": [
              "                            0         1\n",
              "23     Number_of_paid_on_time  0.137181\n",
              "5                     PAY_SEP  0.107093\n",
              "6                     PAY_AUG   0.07328\n",
              "25  most_recent_month_delayed  0.057926\n",
              "11               BILL_AMT_SEP  0.042047\n",
              "7                     PAY_JUL  0.042041\n",
              "24    Number_of_times_delayed  0.040474\n",
              "12               BILL_AMT_AUG  0.034461\n",
              "0                   LIMIT_BAL  0.034453\n",
              "17                PAY_AMT_SEP  0.032231\n",
              "18                PAY_AMT_AUG  0.031636\n",
              "13               BILL_AMT_JUL  0.031058\n",
              "15               BILL_AMT_MAY  0.030796\n",
              "20                PAY_AMT_JUN  0.029744\n",
              "14               BILL_AMT_JUN  0.029729\n",
              "19                PAY_AMT_JUL  0.029586\n",
              "4                         AGE  0.028964\n",
              "16               BILL_AMT_APR  0.028881\n",
              "22                PAY_AMT_APR  0.028383\n",
              "21                PAY_AMT_MAY  0.026725\n",
              "8                     PAY_JUN  0.020945\n",
              "9                     PAY_MAY  0.018724\n",
              "1                         SEX  0.018272\n",
              "3                    MARRIAGE  0.016901\n",
              "10                    PAY_APR  0.014804\n",
              "2                   EDUCATION  0.013665"
            ],
            "text/html": [
              "\n",
              "  <div id=\"df-faf3efec-c50a-40fa-ace6-2cde4f3e8c02\">\n",
              "    <div class=\"colab-df-container\">\n",
              "      <div>\n",
              "<style scoped>\n",
              "    .dataframe tbody tr th:only-of-type {\n",
              "        vertical-align: middle;\n",
              "    }\n",
              "\n",
              "    .dataframe tbody tr th {\n",
              "        vertical-align: top;\n",
              "    }\n",
              "\n",
              "    .dataframe thead th {\n",
              "        text-align: right;\n",
              "    }\n",
              "</style>\n",
              "<table border=\"1\" class=\"dataframe\">\n",
              "  <thead>\n",
              "    <tr style=\"text-align: right;\">\n",
              "      <th></th>\n",
              "      <th>0</th>\n",
              "      <th>1</th>\n",
              "    </tr>\n",
              "  </thead>\n",
              "  <tbody>\n",
              "    <tr>\n",
              "      <th>23</th>\n",
              "      <td>Number_of_paid_on_time</td>\n",
              "      <td>0.137181</td>\n",
              "    </tr>\n",
              "    <tr>\n",
              "      <th>5</th>\n",
              "      <td>PAY_SEP</td>\n",
              "      <td>0.107093</td>\n",
              "    </tr>\n",
              "    <tr>\n",
              "      <th>6</th>\n",
              "      <td>PAY_AUG</td>\n",
              "      <td>0.07328</td>\n",
              "    </tr>\n",
              "    <tr>\n",
              "      <th>25</th>\n",
              "      <td>most_recent_month_delayed</td>\n",
              "      <td>0.057926</td>\n",
              "    </tr>\n",
              "    <tr>\n",
              "      <th>11</th>\n",
              "      <td>BILL_AMT_SEP</td>\n",
              "      <td>0.042047</td>\n",
              "    </tr>\n",
              "    <tr>\n",
              "      <th>7</th>\n",
              "      <td>PAY_JUL</td>\n",
              "      <td>0.042041</td>\n",
              "    </tr>\n",
              "    <tr>\n",
              "      <th>24</th>\n",
              "      <td>Number_of_times_delayed</td>\n",
              "      <td>0.040474</td>\n",
              "    </tr>\n",
              "    <tr>\n",
              "      <th>12</th>\n",
              "      <td>BILL_AMT_AUG</td>\n",
              "      <td>0.034461</td>\n",
              "    </tr>\n",
              "    <tr>\n",
              "      <th>0</th>\n",
              "      <td>LIMIT_BAL</td>\n",
              "      <td>0.034453</td>\n",
              "    </tr>\n",
              "    <tr>\n",
              "      <th>17</th>\n",
              "      <td>PAY_AMT_SEP</td>\n",
              "      <td>0.032231</td>\n",
              "    </tr>\n",
              "    <tr>\n",
              "      <th>18</th>\n",
              "      <td>PAY_AMT_AUG</td>\n",
              "      <td>0.031636</td>\n",
              "    </tr>\n",
              "    <tr>\n",
              "      <th>13</th>\n",
              "      <td>BILL_AMT_JUL</td>\n",
              "      <td>0.031058</td>\n",
              "    </tr>\n",
              "    <tr>\n",
              "      <th>15</th>\n",
              "      <td>BILL_AMT_MAY</td>\n",
              "      <td>0.030796</td>\n",
              "    </tr>\n",
              "    <tr>\n",
              "      <th>20</th>\n",
              "      <td>PAY_AMT_JUN</td>\n",
              "      <td>0.029744</td>\n",
              "    </tr>\n",
              "    <tr>\n",
              "      <th>14</th>\n",
              "      <td>BILL_AMT_JUN</td>\n",
              "      <td>0.029729</td>\n",
              "    </tr>\n",
              "    <tr>\n",
              "      <th>19</th>\n",
              "      <td>PAY_AMT_JUL</td>\n",
              "      <td>0.029586</td>\n",
              "    </tr>\n",
              "    <tr>\n",
              "      <th>4</th>\n",
              "      <td>AGE</td>\n",
              "      <td>0.028964</td>\n",
              "    </tr>\n",
              "    <tr>\n",
              "      <th>16</th>\n",
              "      <td>BILL_AMT_APR</td>\n",
              "      <td>0.028881</td>\n",
              "    </tr>\n",
              "    <tr>\n",
              "      <th>22</th>\n",
              "      <td>PAY_AMT_APR</td>\n",
              "      <td>0.028383</td>\n",
              "    </tr>\n",
              "    <tr>\n",
              "      <th>21</th>\n",
              "      <td>PAY_AMT_MAY</td>\n",
              "      <td>0.026725</td>\n",
              "    </tr>\n",
              "    <tr>\n",
              "      <th>8</th>\n",
              "      <td>PAY_JUN</td>\n",
              "      <td>0.020945</td>\n",
              "    </tr>\n",
              "    <tr>\n",
              "      <th>9</th>\n",
              "      <td>PAY_MAY</td>\n",
              "      <td>0.018724</td>\n",
              "    </tr>\n",
              "    <tr>\n",
              "      <th>1</th>\n",
              "      <td>SEX</td>\n",
              "      <td>0.018272</td>\n",
              "    </tr>\n",
              "    <tr>\n",
              "      <th>3</th>\n",
              "      <td>MARRIAGE</td>\n",
              "      <td>0.016901</td>\n",
              "    </tr>\n",
              "    <tr>\n",
              "      <th>10</th>\n",
              "      <td>PAY_APR</td>\n",
              "      <td>0.014804</td>\n",
              "    </tr>\n",
              "    <tr>\n",
              "      <th>2</th>\n",
              "      <td>EDUCATION</td>\n",
              "      <td>0.013665</td>\n",
              "    </tr>\n",
              "  </tbody>\n",
              "</table>\n",
              "</div>\n",
              "      <button class=\"colab-df-convert\" onclick=\"convertToInteractive('df-faf3efec-c50a-40fa-ace6-2cde4f3e8c02')\"\n",
              "              title=\"Convert this dataframe to an interactive table.\"\n",
              "              style=\"display:none;\">\n",
              "        \n",
              "  <svg xmlns=\"http://www.w3.org/2000/svg\" height=\"24px\"viewBox=\"0 0 24 24\"\n",
              "       width=\"24px\">\n",
              "    <path d=\"M0 0h24v24H0V0z\" fill=\"none\"/>\n",
              "    <path d=\"M18.56 5.44l.94 2.06.94-2.06 2.06-.94-2.06-.94-.94-2.06-.94 2.06-2.06.94zm-11 1L8.5 8.5l.94-2.06 2.06-.94-2.06-.94L8.5 2.5l-.94 2.06-2.06.94zm10 10l.94 2.06.94-2.06 2.06-.94-2.06-.94-.94-2.06-.94 2.06-2.06.94z\"/><path d=\"M17.41 7.96l-1.37-1.37c-.4-.4-.92-.59-1.43-.59-.52 0-1.04.2-1.43.59L10.3 9.45l-7.72 7.72c-.78.78-.78 2.05 0 2.83L4 21.41c.39.39.9.59 1.41.59.51 0 1.02-.2 1.41-.59l7.78-7.78 2.81-2.81c.8-.78.8-2.07 0-2.86zM5.41 20L4 18.59l7.72-7.72 1.47 1.35L5.41 20z\"/>\n",
              "  </svg>\n",
              "      </button>\n",
              "      \n",
              "  <style>\n",
              "    .colab-df-container {\n",
              "      display:flex;\n",
              "      flex-wrap:wrap;\n",
              "      gap: 12px;\n",
              "    }\n",
              "\n",
              "    .colab-df-convert {\n",
              "      background-color: #E8F0FE;\n",
              "      border: none;\n",
              "      border-radius: 50%;\n",
              "      cursor: pointer;\n",
              "      display: none;\n",
              "      fill: #1967D2;\n",
              "      height: 32px;\n",
              "      padding: 0 0 0 0;\n",
              "      width: 32px;\n",
              "    }\n",
              "\n",
              "    .colab-df-convert:hover {\n",
              "      background-color: #E2EBFA;\n",
              "      box-shadow: 0px 1px 2px rgba(60, 64, 67, 0.3), 0px 1px 3px 1px rgba(60, 64, 67, 0.15);\n",
              "      fill: #174EA6;\n",
              "    }\n",
              "\n",
              "    [theme=dark] .colab-df-convert {\n",
              "      background-color: #3B4455;\n",
              "      fill: #D2E3FC;\n",
              "    }\n",
              "\n",
              "    [theme=dark] .colab-df-convert:hover {\n",
              "      background-color: #434B5C;\n",
              "      box-shadow: 0px 1px 3px 1px rgba(0, 0, 0, 0.15);\n",
              "      filter: drop-shadow(0px 1px 2px rgba(0, 0, 0, 0.3));\n",
              "      fill: #FFFFFF;\n",
              "    }\n",
              "  </style>\n",
              "\n",
              "      <script>\n",
              "        const buttonEl =\n",
              "          document.querySelector('#df-faf3efec-c50a-40fa-ace6-2cde4f3e8c02 button.colab-df-convert');\n",
              "        buttonEl.style.display =\n",
              "          google.colab.kernel.accessAllowed ? 'block' : 'none';\n",
              "\n",
              "        async function convertToInteractive(key) {\n",
              "          const element = document.querySelector('#df-faf3efec-c50a-40fa-ace6-2cde4f3e8c02');\n",
              "          const dataTable =\n",
              "            await google.colab.kernel.invokeFunction('convertToInteractive',\n",
              "                                                     [key], {});\n",
              "          if (!dataTable) return;\n",
              "\n",
              "          const docLinkHtml = 'Like what you see? Visit the ' +\n",
              "            '<a target=\"_blank\" href=https://colab.research.google.com/notebooks/data_table.ipynb>data table notebook</a>'\n",
              "            + ' to learn more about interactive tables.';\n",
              "          element.innerHTML = '';\n",
              "          dataTable['output_type'] = 'display_data';\n",
              "          await google.colab.output.renderOutput(dataTable, element);\n",
              "          const docLink = document.createElement('div');\n",
              "          docLink.innerHTML = docLinkHtml;\n",
              "          element.appendChild(docLink);\n",
              "        }\n",
              "      </script>\n",
              "    </div>\n",
              "  </div>\n",
              "  "
            ]
          },
          "metadata": {},
          "execution_count": 84
        }
      ]
    },
    {
      "cell_type": "code",
      "source": [
        "feature_importance_df = pd.DataFrame({'Feature_name': X_train.columns, 'Importance': selected_model.feature_importances_})\n",
        "feature_importance_df = feature_importance_df.sort_values(by='Importance', ascending=False)\n",
        "plt.figure(figsize = (20, 6))\n",
        "plt.title('Features importance', fontsize=15)\n",
        "ax = plt.bar(feature_importance_df['Feature_name'][:24], feature_importance_df['Importance'][:24])\n",
        "plt.xticks(rotation=90)\n",
        "plt.show() \n"
      ],
      "metadata": {
        "colab": {
          "base_uri": "https://localhost:8080/",
          "height": 526
        },
        "id": "EW3zqu0PyGET",
        "outputId": "e67f5b63-935d-470f-e431-ece64d5a28cd"
      },
      "execution_count": null,
      "outputs": [
        {
          "output_type": "display_data",
          "data": {
            "text/plain": [
              "<Figure size 1440x432 with 1 Axes>"
            ],
            "image/png": "[encoded data removed]"
          },
          "metadata": {
            "needs_background": "light"
          }
        }
      ]
    },
    {
      "cell_type": "markdown",
      "source": [
        "In this feature selection study, we can see that \"Number of times pay on time\" are highly correlated with the default rate which is very useful insight."
      ],
      "metadata": {
        "id": "mvUcMQgl7TN9"
      }
    },
    {
      "cell_type": "markdown",
      "source": [
        "### 3) Select Feature"
      ],
      "metadata": {
        "id": "Yvj4Lwi60aXZ"
      }
    },
    {
      "cell_type": "code",
      "source": [
        "selected_row=feature_importance_df['Feature_name'][:20].values.tolist()\n",
        "selected_row"
      ],
      "metadata": {
        "colab": {
          "base_uri": "https://localhost:8080/"
        },
        "id": "NlYryIvRKYKs",
        "outputId": "d506e841-5023-4c9c-f4ff-c1be6f9c9df4"
      },
      "execution_count": null,
      "outputs": [
        {
          "output_type": "execute_result",
          "data": {
            "text/plain": [
              "['Number_of_paid_on_time',\n",
              " 'PAY_SEP',\n",
              " 'PAY_AUG',\n",
              " 'most_recent_month_delayed',\n",
              " 'BILL_AMT_SEP',\n",
              " 'PAY_JUL',\n",
              " 'Number_of_times_delayed',\n",
              " 'BILL_AMT_AUG',\n",
              " 'LIMIT_BAL',\n",
              " 'PAY_AMT_SEP',\n",
              " 'PAY_AMT_AUG',\n",
              " 'BILL_AMT_JUL',\n",
              " 'BILL_AMT_MAY',\n",
              " 'PAY_AMT_JUN',\n",
              " 'BILL_AMT_JUN',\n",
              " 'PAY_AMT_JUL',\n",
              " 'AGE',\n",
              " 'BILL_AMT_APR',\n",
              " 'PAY_AMT_APR',\n",
              " 'PAY_AMT_MAY']"
            ]
          },
          "metadata": {},
          "execution_count": 86
        }
      ]
    },
    {
      "cell_type": "code",
      "source": [
        "X_train_selected=X_train[selected_row]\n",
        "X_test_selected=X_test[selected_row]\n"
      ],
      "metadata": {
        "id": "kV3FiS6p0njb"
      },
      "execution_count": null,
      "outputs": []
    },
    {
      "cell_type": "markdown",
      "source": [
        "### 4) Re-train the model with selected feature"
      ],
      "metadata": {
        "id": "48VTmFMX0vq2"
      }
    },
    {
      "cell_type": "code",
      "source": [
        "RF_selected=RandomForestClassifier(class_weight='balanced', max_depth=20,\n",
        "                        min_samples_leaf=3)\n",
        "\n",
        "                        "
      ],
      "metadata": {
        "id": "tf8ED4gL0vDh"
      },
      "execution_count": null,
      "outputs": []
    },
    {
      "cell_type": "code",
      "source": [
        "RF_selected.fit(X_train_selected,y_train)"
      ],
      "metadata": {
        "colab": {
          "base_uri": "https://localhost:8080/"
        },
        "id": "j3ehq7iICBMW",
        "outputId": "1d81e519-a650-4a91-a610-8e6f684e2085"
      },
      "execution_count": null,
      "outputs": [
        {
          "output_type": "execute_result",
          "data": {
            "text/plain": [
              "RandomForestClassifier(class_weight='balanced', max_depth=20,\n",
              "                       min_samples_leaf=3)"
            ]
          },
          "metadata": {},
          "execution_count": 89
        }
      ]
    },
    {
      "cell_type": "code",
      "source": [
        "y_pred_selected=RF_selected.predict(X_test_selected)\n"
      ],
      "metadata": {
        "id": "mmeiZKtjCJix"
      },
      "execution_count": null,
      "outputs": []
    },
    {
      "cell_type": "markdown",
      "source": [
        "#### 5) Final Model Evaluation"
      ],
      "metadata": {
        "id": "1ic5fIYC1P5_"
      }
    },
    {
      "cell_type": "code",
      "source": [
        "print(classification_report(y_test, y_pred_selected))"
      ],
      "metadata": {
        "colab": {
          "base_uri": "https://localhost:8080/"
        },
        "id": "LtAAxD_XLQIt",
        "outputId": "b22f20e5-995f-4f54-b89e-f64dba148d35"
      },
      "execution_count": null,
      "outputs": [
        {
          "output_type": "stream",
          "name": "stdout",
          "text": [
            "              precision    recall  f1-score   support\n",
            "\n",
            "           0       0.81      0.90      0.85      4650\n",
            "           1       0.88      0.79      0.83      4696\n",
            "\n",
            "    accuracy                           0.84      9346\n",
            "   macro avg       0.84      0.84      0.84      9346\n",
            "weighted avg       0.85      0.84      0.84      9346\n",
            "\n"
          ]
        }
      ]
    },
    {
      "cell_type": "code",
      "source": [
        "plot_roc_curve(RF_selected, X_test_selected, y_test)"
      ],
      "metadata": {
        "colab": {
          "base_uri": "https://localhost:8080/",
          "height": 296
        },
        "id": "yY56a_WvL0fz",
        "outputId": "fa9faa15-f813-4076-8b72-f1179d8fc0ab"
      },
      "execution_count": null,
      "outputs": [
        {
          "output_type": "execute_result",
          "data": {
            "text/plain": [
              "<sklearn.metrics._plot.roc_curve.RocCurveDisplay at 0x7fbc00c9bc10>"
            ]
          },
          "metadata": {},
          "execution_count": 92
        },
        {
          "output_type": "display_data",
          "data": {
            "text/plain": [
              "<Figure size 432x288 with 1 Axes>"
            ],
            "image/png": "[encoded data removed]"
          },
          "metadata": {
            "needs_background": "light"
          }
        }
      ]
    },
    {
      "cell_type": "markdown",
      "metadata": {
        "id": "I904bFExk8wu"
      },
      "source": [
        "# G) How the predictions can be used in Credit Sesame's product\n"
      ]
    },
    {
      "cell_type": "markdown",
      "source": [
        "#### Finally, once you have trained your model, please think of ways its predictions can be used in Credit Sesame’s product. Be prepared to have a conversation about your envisioned use cases."
      ],
      "metadata": {
        "id": "jXDqXqCU8pGn"
      }
    },
    {
      "cell_type": "markdown",
      "source": [
        "Use Case 1:\n",
        "\n",
        "The model can predict the likelihood of an individual's next credit card payment will be defaulted or not. Credit Sesame could set up a reminder to this individual to remind him or her in advance about the chance of missing the next credit card payment and remind him or her of the consequences of a default, such as, his or her credit score will go down, lower chance in the future to get a loan approved, etc. This type of insight can help individuals manage their financial situation better. "
      ],
      "metadata": {
        "id": "Hx6dyirN87lF"
      }
    },
    {
      "cell_type": "markdown",
      "metadata": {
        "id": "00qfrE_NlK0b"
      },
      "source": [
        "Use Case 2:\n",
        "\n",
        "Credit sesame is a company that makes consumer credit and loan management simple and automated. The objective of the company is to help the individual manage their credit scores, compare the loan providers's rates and find the best strategy to get a loan approved. \n",
        "\n",
        "In order to get a loan, the individual often requires to submit the loan application first blindfoldedly without knowing the likelihood of getting the loan approved or not. However, if the application gets declined, the credit score would go down significantly which might also affect the individual to re-apply with the other loan providers which implies the individual might want to know the likelihood of this loan approved before submitting the application.\n",
        "\n",
        "In that case, Credit Sesame can suggest to the customers who are likely to default on their payment to convert their credit card debt into a personal loans with lower interest rate. \n"
      ]
    },
    {
      "cell_type": "code",
      "execution_count": null,
      "metadata": {
        "id": "bV47KNZalJoK"
      },
      "outputs": [],
      "source": []
    }
  ],
  "metadata": {
    "accelerator": "TPU",
    "colab": {
      "collapsed_sections": [],
      "machine_shape": "hm",
      "provenance": []
    },
    "kernelspec": {
      "display_name": "Python 3",
      "name": "python3"
    },
    "language_info": {
      "name": "python"
    }
  },
  "nbformat": 4,
  "nbformat_minor": 0
}